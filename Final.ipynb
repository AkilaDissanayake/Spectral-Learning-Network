{
 "cells": [
  {
   "cell_type": "markdown",
   "id": "52429d88-ae03-415e-a065-0f7a2fee3972",
   "metadata": {},
   "source": [
    "## With SNR \n",
    "**We can measure SNR using tf signal power if we know it**  \n",
    "$ \\text{SNR} = \\log_{10}\\!\\left(\\dfrac{TP}{TP - RP}\\right) $\n"
   ]
  },
  {
   "cell_type": "code",
   "execution_count": 3,
   "id": "5f4024e8-196e-444f-ba91-8df73fdec001",
   "metadata": {},
   "outputs": [
    {
     "name": "stderr",
     "output_type": "stream",
     "text": [
      "C:\\Users\\akila\\anaconda3\\envs\\tf_env\\lib\\site-packages\\requests\\__init__.py:86: RequestsDependencyWarning: Unable to find acceptable character detection dependency (chardet or charset_normalizer).\n",
      "  warnings.warn(\n"
     ]
    },
    {
     "name": "stdout",
     "output_type": "stream",
     "text": [
      "TensorFlow version: 2.19.0\n"
     ]
    }
   ],
   "source": [
    "import pickle\n",
    "import numpy as np\n",
    "import tensorflow as tf\n",
    "print(\"TensorFlow version:\", tf.__version__)\n",
    "from tensorflow.keras import layers, models, Input\n",
    "from tensorflow.keras.callbacks import EarlyStopping\n",
    "from fastapi import FastAPI"
   ]
  },
  {
   "cell_type": "code",
   "execution_count": 7,
   "id": "22975d7a-d83f-4f31-a079-1363e05bca45",
   "metadata": {},
   "outputs": [
    {
     "name": "stdout",
     "output_type": "stream",
     "text": [
      "Number of keys: 220\n",
      "Example key: ('QPSK', 2)\n",
      "Shape of one sample: (2, 128)\n",
      "Rows: I/Q Components \n",
      "Colomns:Samples for 128 time instances\n",
      "Shape of sample on one scheme: (1000, 2, 128)\n",
      "First Sample [[-1.0265000e-03  5.8502653e-03 -9.3906338e-04 -2.2335863e-03\n",
      "  -1.3568916e-04 -6.8309228e-04  4.1412762e-03  1.2770405e-03\n",
      "  -3.4695407e-03 -6.4070662e-04  1.9288055e-03 -3.1959298e-03\n",
      "   1.9657889e-03  2.2193526e-03  2.2501240e-03  1.0834818e-03\n",
      "  -3.2876425e-03  3.2260290e-03  1.8539119e-03  1.4974185e-03\n",
      "  -4.7951085e-03 -5.2285631e-04  1.1597933e-04  5.3670054e-04\n",
      "  -1.6577138e-03  3.5826277e-03 -2.8328735e-03  1.7530784e-03\n",
      "  -2.4740885e-03 -1.5094796e-03  9.3733874e-04 -1.8275570e-03\n",
      "  -2.8713259e-03 -1.5362875e-03 -3.7586095e-04  8.5423136e-04\n",
      "  -1.8415806e-03 -2.6825715e-03 -1.2375436e-03 -3.1134628e-03\n",
      "   4.5682848e-03 -1.5236636e-03  7.2360924e-03 -1.0099898e-03\n",
      "  -3.1587915e-04 -5.8839722e-03  2.0147045e-03 -3.5786787e-03\n",
      "   1.0269805e-03  7.5495308e-03  3.1257968e-03  1.8570216e-03\n",
      "  -1.2018427e-03  4.0862658e-03  5.4867996e-04  2.1613929e-03\n",
      "   1.5243380e-03  1.4144264e-03  1.1518439e-03 -1.3142801e-03\n",
      "   4.1722045e-03  4.9374569e-03 -7.9749653e-04 -2.4557314e-03\n",
      "  -7.6919084e-04 -1.1952325e-03 -2.6515960e-03 -9.6110813e-04\n",
      "   2.6968475e-03  5.8432035e-03  4.6153963e-03  5.5554183e-03\n",
      "   6.8980367e-03  1.6410357e-03  6.4463066e-03  9.1148606e-03\n",
      "   1.3471834e-02  8.7870369e-03  9.9787610e-03  1.1449819e-02\n",
      "   2.2705924e-03  6.8095601e-03  4.0298747e-03  9.9280635e-03\n",
      "   9.5167514e-03  3.2403381e-03  1.0488763e-02  9.6698711e-03\n",
      "   7.9459054e-03  4.3619680e-03 -2.5507570e-03  1.0677358e-02\n",
      "   8.9045642e-03  1.0664136e-02  1.1790678e-02  7.5646704e-03\n",
      "   1.2927452e-02  1.1384122e-02  1.0294649e-02  9.6527403e-03\n",
      "   1.3992495e-02  2.5422985e-03 -3.2227943e-03 -6.1395922e-04\n",
      "  -6.5222918e-03 -7.8658117e-03 -1.1964867e-02 -1.0438381e-02\n",
      "  -1.4456270e-02 -7.2105830e-03 -1.7102031e-03  7.7771617e-04\n",
      "   4.6408651e-03  8.6338203e-03  8.1222085e-03  1.2156066e-02\n",
      "   1.2616078e-02  8.7663420e-03  1.1913567e-02 -3.0887392e-03\n",
      "  -5.8716461e-03 -6.7176945e-03 -1.5145686e-02 -1.0507351e-02\n",
      "  -1.2254140e-02 -7.7117234e-03 -1.2606060e-02 -1.1883082e-02]\n",
      " [ 4.9492717e-03  6.0489341e-03 -4.2515874e-04 -2.7829695e-03\n",
      "  -3.5882799e-03  1.5381657e-03 -3.6846155e-03  1.2332476e-03\n",
      "  -7.8738281e-05  3.6926833e-03 -9.8390609e-04  4.4966512e-03\n",
      "  -5.0295498e-03 -4.4308035e-04  3.3664962e-03 -1.7339691e-03\n",
      "   9.5076836e-04  1.8495844e-03  3.1974053e-04 -4.5364820e-03\n",
      "   6.5929559e-04 -6.2332791e-04  3.2828895e-03  7.1981811e-04\n",
      "  -3.0421175e-03 -3.2826304e-04 -1.0604921e-03 -3.1767183e-03\n",
      "  -4.1620214e-03 -9.1494797e-03  3.5946774e-03 -2.4160789e-03\n",
      "   6.0059523e-05  6.3300375e-03 -8.3270349e-04  4.8547145e-03\n",
      "   2.7689626e-03 -4.2653172e-03 -1.5813838e-03 -1.8270906e-03\n",
      "   7.3221200e-03 -4.2773071e-03  9.6235250e-04 -5.6133402e-04\n",
      "   1.9552779e-06  6.1253551e-04  4.6512526e-03  9.4891191e-03\n",
      "   5.6190318e-03  3.2920407e-03 -4.0235696e-03 -5.0677505e-04\n",
      "  -8.9918158e-04  3.3651097e-03 -2.9525738e-03 -2.0493369e-03\n",
      "  -5.5619504e-04 -1.4885528e-03  2.0249696e-03  4.0757051e-04\n",
      "   4.2566797e-03 -3.6507498e-03 -2.2951404e-03 -2.8905359e-03\n",
      "   1.9051064e-03  6.5854896e-04 -2.0906489e-04 -5.2039661e-03\n",
      "   2.5214169e-03  9.2102960e-03 -5.1632938e-03  3.4161105e-03\n",
      "   6.2476373e-03  8.1844656e-03  1.5177163e-02  1.0647684e-02\n",
      "   1.2071611e-02  1.2239130e-02  1.1519340e-02  1.2003963e-02\n",
      "   3.7997572e-03  8.2668383e-03  6.8565244e-03  5.3605135e-03\n",
      "   1.3018298e-02  1.6621992e-02  1.4535165e-02  1.7735790e-02\n",
      "   8.3584581e-03  2.1781588e-02  1.3019555e-02  5.5557494e-03\n",
      "   8.0664232e-03  2.5722922e-03  3.9416351e-03 -2.2321532e-03\n",
      "  -1.3786751e-02 -8.8789994e-03 -5.2147545e-03 -7.0363590e-03\n",
      "  -1.9231627e-03 -4.6812776e-03 -8.5006505e-03  2.1504436e-03\n",
      "  -6.7994866e-04  5.8816182e-03  4.3287030e-03  9.5704636e-03\n",
      "   1.1726572e-02  5.7089009e-04  1.2270860e-02  8.5907225e-03\n",
      "   1.4439253e-02  9.1842692e-03  6.8357605e-03  8.8307653e-03\n",
      "   5.3219204e-03  2.4157036e-03 -1.5883825e-03 -3.1044197e-03\n",
      "  -4.5272740e-04 -5.7287957e-03 -1.3186048e-02 -1.4643853e-02\n",
      "  -1.6109681e-02 -9.0714619e-03 -1.5085516e-02 -9.6571390e-03]]\n",
      "{'Mean_I': np.float32(0.0015182795), 'Mean_Q': np.float32(0.0016882056), 'STD_I': np.float32(0.0062470464), 'STD_Q': np.float32(0.0068789963)}\n",
      "{'Mean_I': np.float32(0.00018785067), 'Mean_Q': np.float32(-0.00031046115), 'STD_I': np.float32(0.006100795), 'STD_Q': np.float32(0.0059246835)}\n",
      "{'Mean_I': np.float32(0.000690323), 'Mean_Q': np.float32(0.00049323257), 'STD_I': np.float32(0.0061571156), 'STD_Q': np.float32(0.00562995)}\n",
      "{'Mean_I': np.float32(-0.0025402447), 'Mean_Q': np.float32(-0.0017230172), 'STD_I': np.float32(0.005236516), 'STD_Q': np.float32(0.005760897)}\n",
      "{'Mean_I': np.float32(0.0008760486), 'Mean_Q': np.float32(-0.002534757), 'STD_I': np.float32(0.0058167316), 'STD_Q': np.float32(0.0052410257)}\n",
      "{'Mean_I': np.float32(0.0017044744), 'Mean_Q': np.float32(-0.0003367372), 'STD_I': np.float32(0.005559468), 'STD_Q': np.float32(0.006059581)}\n",
      "{'Mean_I': np.float32(6.3386164e-05), 'Mean_Q': np.float32(-0.0008501812), 'STD_I': np.float32(0.0057220096), 'STD_Q': np.float32(0.006004807)}\n",
      "{'Mean_I': np.float32(-0.0004019768), 'Mean_Q': np.float32(-0.00010425232), 'STD_I': np.float32(0.0060240864), 'STD_Q': np.float32(0.0057166)}\n",
      "{'Mean_I': np.float32(-0.00075638096), 'Mean_Q': np.float32(9.66886e-06), 'STD_I': np.float32(0.0059203063), 'STD_Q': np.float32(0.0056716274)}\n",
      "{'Mean_I': np.float32(0.001124399), 'Mean_Q': np.float32(-0.0008484976), 'STD_I': np.float32(0.00531665), 'STD_Q': np.float32(0.0063980874)}\n",
      "{'Mean_I': np.float32(0.0019039712), 'Mean_Q': np.float32(-0.000368064), 'STD_I': np.float32(0.0049513876), 'STD_Q': np.float32(0.006274268)}\n",
      "['QPSK', 'PAM4', 'AM-DSB', 'GFSK', 'QAM64', 'AM-SSB', '8PSK', 'QAM16', 'WBFM', 'CPFSK', 'BPSK']\n",
      "Number of modulation schemes 11.\n",
      "[-20, -18, -16, -14, -12, -10, -8, -6, -4, -2, 0, 2, 4, 6, 8, 10, 12, 14, 16, 18]\n",
      "Number of SNR values 20.\n"
     ]
    }
   ],
   "source": [
    "with open(\"RML2016.10a_dict.pkl\", 'rb') as f:\n",
    "    data_dict = pickle.load(f)\n",
    "\n",
    "#Structure: key = (modulation_type, snr)\n",
    "keys=list(data_dict.keys())\n",
    "class_1=data_dict[keys[0]]#list of one class\n",
    "print(\"Number of keys:\", len(keys))\n",
    "print(\"Example key:\", keys[0])\n",
    "print(\"Shape of one sample:\", class_1[0].shape)#acces first element of first key in dictionary\n",
    "print(f\"Rows: I/Q Components \\nColomns:Samples for {class_1[0].shape[1]} time instances\")\n",
    "print(\"Shape of sample on one scheme:\", class_1.shape)\n",
    "print(\"First Sample\",class_1[0])\n",
    "def sample_stats(sample):\n",
    "    return {\"Mean_I\":np.mean(sample[0]),\"Mean_Q\":np.mean(sample[1]),\"STD_I\": np.std(sample[0]),\"STD_Q\":np.std(sample[1])}\n",
    "\n",
    "for sample in class_1[:11]:\n",
    "  print(sample_stats(sample))  \n",
    "\n",
    "#mod shemes\n",
    "mod_schemes=[]\n",
    "snr_values=[]\n",
    "for tup in keys:\n",
    "    if tup[0] not in mod_schemes:\n",
    "        mod_schemes.append(tup[0])\n",
    "    if tup[1] not in snr_values:\n",
    "        snr_values.append(tup[1])\n",
    "print(mod_schemes)\n",
    "\n",
    "print(f\"Number of modulation schemes {len(mod_schemes)}.\") \n",
    "temp=snr_values\n",
    "temp.sort()\n",
    "print(temp)\n",
    "print(f\"Number of SNR values {len(snr_values)}.\")  "
   ]
  },
  {
   "cell_type": "markdown",
   "id": "79d1f5c0-cfd1-415f-9713-4d3c76d90624",
   "metadata": {},
   "source": [
    "**There are 220 keys for various schemes and SNR values.**  \n",
    "**Each key is a (MOD,SNR) tuple**  \n",
    "**Each tuple maps in to 1000x2x128 array [  [ [128],[128] ],...1000]**  \n",
    "**Row of each example represents I/Q components while column represents samples from 128 time instances**   \n",
    "**Totally dataset has 11 schemes over 20 snr values**  \n",
    "**220 keys mean 220x1000 examples**\n",
    "\n"
   ]
  },
  {
   "cell_type": "markdown",
   "id": "540b3d4f-9c3f-43d2-85f3-b746285dadfc",
   "metadata": {},
   "source": [
    "## Develop a neural network to output modulation scheme for given I/Q Example & SNR"
   ]
  },
  {
   "cell_type": "code",
   "execution_count": 8,
   "id": "31518159-5ac9-4220-bd7c-1d2a4ec987c1",
   "metadata": {},
   "outputs": [
    {
     "name": "stdout",
     "output_type": "stream",
     "text": [
      "IQ shape: (99000, 2, 128)\n",
      "SNR shape: (99000, 1)\n",
      "Labels shape: (99000,)\n"
     ]
    }
   ],
   "source": [
    "def normalize_iq(sample):\n",
    "    mean = np.mean(sample, axis=1, keepdims=True)\n",
    "    std = np.std(sample, axis=1, keepdims=True) + 1e-6 #all samples equal std=0\n",
    "    return (sample - mean) / std\n",
    "#The network may focus on power differences rather than the modulation pattern  if not normalized\n",
    "\"\"\"\" Implemented to robust scalar observed model accuracy dont improve  \n",
    "from sklearn.preprocessing import RobustScaler\n",
    "scaler = RobustScaler()\n",
    "\"\"\"\"\n",
    "#create x,y\n",
    "X=[]\n",
    "Y=[]\n",
    "SNR=[]\n",
    "#Selected_mods=['BPSK', 'QPSK', 'QAM16', 'QAM64', 'GFSK', 'CPFSK']\n",
    "Selected_mods=['QPSK', 'PAM4', 'AM-DSB', 'GFSK', 'QAM64', 'AM-SSB', '8PSK', 'QAM16', 'WBFM', 'CPFSK', 'BPSK']\n",
    "for key in keys:\n",
    "   #if key[0] in Selected_mods:\n",
    "  if key[1]>0: #noise power<signal power\n",
    "    clz=data_dict[key]\n",
    "    for ex in clz:\n",
    "        \n",
    "        X.append(normalize_iq(ex))\n",
    "        SNR.append((key[1]+20)/38)\n",
    "        Y.append(Selected_mods.index(key[0]))\n",
    "        \n",
    "# Convert to numpy arrays for tensorflow\n",
    "X = np.array(X)    \n",
    "SNR = np.array(SNR) \n",
    "Y = np.array(Y)     \n",
    "SNR = SNR.reshape(-1, 1)  #99000 rows      \n",
    "print(\"IQ shape:\", X.shape)\n",
    "print(\"SNR shape:\", SNR.shape)\n",
    "print(\"Labels shape:\", Y.shape)    \n",
    "\n"
   ]
  },
  {
   "cell_type": "code",
   "execution_count": 9,
   "id": "ae9b065c-b2be-420d-b575-7cfdb27acbfc",
   "metadata": {},
   "outputs": [
    {
     "data": {
      "image/png": "[encoded data removed]",
      "text/plain": [
       "<Figure size 600x600 with 1 Axes>"
      ]
     },
     "metadata": {},
     "output_type": "display_data"
    },
    {
     "name": "stdout",
     "output_type": "stream",
     "text": [
      "Max difference between example 1 and example 2 is 3.272561550140381\n"
     ]
    }
   ],
   "source": [
    "import matplotlib.pyplot as plt\n",
    "I1, Q1 = X[0][0], X[0][1]\n",
    "I2, Q2 = X[1][0], X[1][1]\n",
    "\n",
    "plt.figure(figsize=(6,6))\n",
    "\n",
    "# Plot Example 1 in blue\n",
    "plt.scatter(I1, Q1, s=5, color='blue', alpha=0.6, label=\"Example 1\")#S MEANS SIZE\n",
    "\n",
    "# Plot Example 2 in red\n",
    "plt.scatter(I2, Q2, s=5, color='red', alpha=0.6, label=\"Example 2\")\n",
    "\n",
    "plt.title(\"Normalized Constellation Comparison\")\n",
    "plt.xlabel(\"I\")\n",
    "plt.ylabel(\"Q\")\n",
    "plt.legend()\n",
    "plt.grid(True)\n",
    "plt.axis(\"equal\")  # keep scale same on both axes\n",
    "plt.show()\n",
    "print(f\"Max difference between example 1 and example 2 is {np.max(X[0]-X[1])}\")"
   ]
  },
  {
   "cell_type": "markdown",
   "id": "4eee3878-f041-42b8-ae39-fc961bd7a45b",
   "metadata": {},
   "source": [
    "## Now split the data set to have all snr values equally distributed"
   ]
  },
  {
   "cell_type": "code",
   "execution_count": 10,
   "id": "bd528437-d0c8-4c84-9e6f-3138b245d7ea",
   "metadata": {},
   "outputs": [
    {
     "name": "stdout",
     "output_type": "stream",
     "text": [
      "Train shapes: (74250, 2, 128) (74250, 1) (74250,)\n",
      "Val shapes: (12375, 2, 128) (12375, 1) (12375,)\n",
      "Test shapes: (12375, 2, 128) (12375, 1) (12375,)\n"
     ]
    }
   ],
   "source": [
    "X_train, X_val, X_test = [], [], []\n",
    "SNR_train, SNR_val, SNR_test = [], [], []\n",
    "Y_train, Y_val, Y_test = [], [], []\n",
    "\n",
    "i = 0\n",
    "total_samples = len(X)\n",
    "\n",
    "while i < total_samples:\n",
    "    # take 1000 samples of the same SNR \n",
    "    batch_size = 1000\n",
    "    \n",
    "    # train: first 750\n",
    "    X_train.extend(X[i:i+750])\n",
    "    SNR_train.extend(SNR[i:i+750])\n",
    "    Y_train.extend(Y[i:i+750])\n",
    "    \n",
    "    # val: next 125\n",
    "    X_val.extend(X[i+750:i+875])\n",
    "    SNR_val.extend(SNR[i+750:i+875])\n",
    "    Y_val.extend(Y[i+750:i+875])\n",
    "    \n",
    "    # test: last 125\n",
    "    X_test.extend(X[i+875:i+1000])\n",
    "    SNR_test.extend(SNR[i+875:i+1000])\n",
    "    Y_test.extend(Y[i+875:i+1000])\n",
    "    \n",
    "    i += batch_size  # move to next SNR batch\n",
    "\n",
    "# convert to numpy arrays\n",
    "X_train = np.array(X_train)\n",
    "SNR_train = np.array(SNR_train)\n",
    "Y_train = np.array(Y_train)\n",
    "\n",
    "X_val = np.array(X_val)\n",
    "SNR_val = np.array(SNR_val)\n",
    "Y_val = np.array(Y_val)\n",
    "\n",
    "X_test = np.array(X_test)\n",
    "SNR_test = np.array(SNR_test)\n",
    "Y_test = np.array(Y_test)\n",
    "\n",
    "print(\"Train shapes:\", X_train.shape, SNR_train.shape, Y_train.shape)\n",
    "print(\"Val shapes:\", X_val.shape, SNR_val.shape, Y_val.shape)\n",
    "print(\"Test shapes:\", X_test.shape, SNR_test.shape, Y_test.shape)\n"
   ]
  },
  {
   "cell_type": "code",
   "execution_count": 6,
   "id": "967fa989-dff3-4491-9a64-b2a5a58dbded",
   "metadata": {},
   "outputs": [
    {
     "data": {
      "text/html": [
       "<pre style=\"white-space:pre;overflow-x:auto;line-height:normal;font-family:Menlo,'DejaVu Sans Mono',consolas,'Courier New',monospace\"><span style=\"font-weight: bold\">Model: \"functional\"</span>\n",
       "</pre>\n"
      ],
      "text/plain": [
       "\u001b[1mModel: \"functional\"\u001b[0m\n"
      ]
     },
     "metadata": {},
     "output_type": "display_data"
    },
    {
     "data": {
      "text/html": [
       "<pre style=\"white-space:pre;overflow-x:auto;line-height:normal;font-family:Menlo,'DejaVu Sans Mono',consolas,'Courier New',monospace\">┏━━━━━━━━━━━━━━━━━━━━━┳━━━━━━━━━━━━━━━━━━━┳━━━━━━━━━━━━┳━━━━━━━━━━━━━━━━━━━┓\n",
       "┃<span style=\"font-weight: bold\"> Layer (type)        </span>┃<span style=\"font-weight: bold\"> Output Shape      </span>┃<span style=\"font-weight: bold\">    Param # </span>┃<span style=\"font-weight: bold\"> Connected to      </span>┃\n",
       "┡━━━━━━━━━━━━━━━━━━━━━╇━━━━━━━━━━━━━━━━━━━╇━━━━━━━━━━━━╇━━━━━━━━━━━━━━━━━━━┩\n",
       "│ IQ_Input            │ (<span style=\"color: #00d7ff; text-decoration-color: #00d7ff\">None</span>, <span style=\"color: #00af00; text-decoration-color: #00af00\">2</span>, <span style=\"color: #00af00; text-decoration-color: #00af00\">128</span>)    │          <span style=\"color: #00af00; text-decoration-color: #00af00\">0</span> │ -                 │\n",
       "│ (<span style=\"color: #0087ff; text-decoration-color: #0087ff\">InputLayer</span>)        │                   │            │                   │\n",
       "├─────────────────────┼───────────────────┼────────────┼───────────────────┤\n",
       "│ permute (<span style=\"color: #0087ff; text-decoration-color: #0087ff\">Permute</span>)   │ (<span style=\"color: #00d7ff; text-decoration-color: #00d7ff\">None</span>, <span style=\"color: #00af00; text-decoration-color: #00af00\">128</span>, <span style=\"color: #00af00; text-decoration-color: #00af00\">2</span>)    │          <span style=\"color: #00af00; text-decoration-color: #00af00\">0</span> │ IQ_Input[<span style=\"color: #00af00; text-decoration-color: #00af00\">0</span>][<span style=\"color: #00af00; text-decoration-color: #00af00\">0</span>]    │\n",
       "├─────────────────────┼───────────────────┼────────────┼───────────────────┤\n",
       "│ conv1d (<span style=\"color: #0087ff; text-decoration-color: #0087ff\">Conv1D</span>)     │ (<span style=\"color: #00d7ff; text-decoration-color: #00d7ff\">None</span>, <span style=\"color: #00af00; text-decoration-color: #00af00\">128</span>, <span style=\"color: #00af00; text-decoration-color: #00af00\">32</span>)   │        <span style=\"color: #00af00; text-decoration-color: #00af00\">224</span> │ permute[<span style=\"color: #00af00; text-decoration-color: #00af00\">0</span>][<span style=\"color: #00af00; text-decoration-color: #00af00\">0</span>]     │\n",
       "├─────────────────────┼───────────────────┼────────────┼───────────────────┤\n",
       "│ conv1d_1 (<span style=\"color: #0087ff; text-decoration-color: #0087ff\">Conv1D</span>)   │ (<span style=\"color: #00d7ff; text-decoration-color: #00d7ff\">None</span>, <span style=\"color: #00af00; text-decoration-color: #00af00\">128</span>, <span style=\"color: #00af00; text-decoration-color: #00af00\">32</span>)   │      <span style=\"color: #00af00; text-decoration-color: #00af00\">3,104</span> │ conv1d[<span style=\"color: #00af00; text-decoration-color: #00af00\">0</span>][<span style=\"color: #00af00; text-decoration-color: #00af00\">0</span>]      │\n",
       "├─────────────────────┼───────────────────┼────────────┼───────────────────┤\n",
       "│ spatial_dropout1d   │ (<span style=\"color: #00d7ff; text-decoration-color: #00d7ff\">None</span>, <span style=\"color: #00af00; text-decoration-color: #00af00\">128</span>, <span style=\"color: #00af00; text-decoration-color: #00af00\">32</span>)   │          <span style=\"color: #00af00; text-decoration-color: #00af00\">0</span> │ conv1d_1[<span style=\"color: #00af00; text-decoration-color: #00af00\">0</span>][<span style=\"color: #00af00; text-decoration-color: #00af00\">0</span>]    │\n",
       "│ (<span style=\"color: #0087ff; text-decoration-color: #0087ff\">SpatialDropout1D</span>)  │                   │            │                   │\n",
       "├─────────────────────┼───────────────────┼────────────┼───────────────────┤\n",
       "│ flatten (<span style=\"color: #0087ff; text-decoration-color: #0087ff\">Flatten</span>)   │ (<span style=\"color: #00d7ff; text-decoration-color: #00d7ff\">None</span>, <span style=\"color: #00af00; text-decoration-color: #00af00\">4096</span>)      │          <span style=\"color: #00af00; text-decoration-color: #00af00\">0</span> │ spatial_dropout1… │\n",
       "├─────────────────────┼───────────────────┼────────────┼───────────────────┤\n",
       "│ dense (<span style=\"color: #0087ff; text-decoration-color: #0087ff\">Dense</span>)       │ (<span style=\"color: #00d7ff; text-decoration-color: #00d7ff\">None</span>, <span style=\"color: #00af00; text-decoration-color: #00af00\">128</span>)       │    <span style=\"color: #00af00; text-decoration-color: #00af00\">524,416</span> │ flatten[<span style=\"color: #00af00; text-decoration-color: #00af00\">0</span>][<span style=\"color: #00af00; text-decoration-color: #00af00\">0</span>]     │\n",
       "├─────────────────────┼───────────────────┼────────────┼───────────────────┤\n",
       "│ SNR_Input           │ (<span style=\"color: #00d7ff; text-decoration-color: #00d7ff\">None</span>, <span style=\"color: #00af00; text-decoration-color: #00af00\">1</span>)         │          <span style=\"color: #00af00; text-decoration-color: #00af00\">0</span> │ -                 │\n",
       "│ (<span style=\"color: #0087ff; text-decoration-color: #0087ff\">InputLayer</span>)        │                   │            │                   │\n",
       "├─────────────────────┼───────────────────┼────────────┼───────────────────┤\n",
       "│ dropout (<span style=\"color: #0087ff; text-decoration-color: #0087ff\">Dropout</span>)   │ (<span style=\"color: #00d7ff; text-decoration-color: #00d7ff\">None</span>, <span style=\"color: #00af00; text-decoration-color: #00af00\">128</span>)       │          <span style=\"color: #00af00; text-decoration-color: #00af00\">0</span> │ dense[<span style=\"color: #00af00; text-decoration-color: #00af00\">0</span>][<span style=\"color: #00af00; text-decoration-color: #00af00\">0</span>]       │\n",
       "├─────────────────────┼───────────────────┼────────────┼───────────────────┤\n",
       "│ dense_1 (<span style=\"color: #0087ff; text-decoration-color: #0087ff\">Dense</span>)     │ (<span style=\"color: #00d7ff; text-decoration-color: #00d7ff\">None</span>, <span style=\"color: #00af00; text-decoration-color: #00af00\">8</span>)         │         <span style=\"color: #00af00; text-decoration-color: #00af00\">16</span> │ SNR_Input[<span style=\"color: #00af00; text-decoration-color: #00af00\">0</span>][<span style=\"color: #00af00; text-decoration-color: #00af00\">0</span>]   │\n",
       "├─────────────────────┼───────────────────┼────────────┼───────────────────┤\n",
       "│ concatenate         │ (<span style=\"color: #00d7ff; text-decoration-color: #00d7ff\">None</span>, <span style=\"color: #00af00; text-decoration-color: #00af00\">136</span>)       │          <span style=\"color: #00af00; text-decoration-color: #00af00\">0</span> │ dropout[<span style=\"color: #00af00; text-decoration-color: #00af00\">0</span>][<span style=\"color: #00af00; text-decoration-color: #00af00\">0</span>],    │\n",
       "│ (<span style=\"color: #0087ff; text-decoration-color: #0087ff\">Concatenate</span>)       │                   │            │ dense_1[<span style=\"color: #00af00; text-decoration-color: #00af00\">0</span>][<span style=\"color: #00af00; text-decoration-color: #00af00\">0</span>]     │\n",
       "├─────────────────────┼───────────────────┼────────────┼───────────────────┤\n",
       "│ dense_2 (<span style=\"color: #0087ff; text-decoration-color: #0087ff\">Dense</span>)     │ (<span style=\"color: #00d7ff; text-decoration-color: #00d7ff\">None</span>, <span style=\"color: #00af00; text-decoration-color: #00af00\">64</span>)        │      <span style=\"color: #00af00; text-decoration-color: #00af00\">8,768</span> │ concatenate[<span style=\"color: #00af00; text-decoration-color: #00af00\">0</span>][<span style=\"color: #00af00; text-decoration-color: #00af00\">0</span>] │\n",
       "├─────────────────────┼───────────────────┼────────────┼───────────────────┤\n",
       "│ dropout_1 (<span style=\"color: #0087ff; text-decoration-color: #0087ff\">Dropout</span>) │ (<span style=\"color: #00d7ff; text-decoration-color: #00d7ff\">None</span>, <span style=\"color: #00af00; text-decoration-color: #00af00\">64</span>)        │          <span style=\"color: #00af00; text-decoration-color: #00af00\">0</span> │ dense_2[<span style=\"color: #00af00; text-decoration-color: #00af00\">0</span>][<span style=\"color: #00af00; text-decoration-color: #00af00\">0</span>]     │\n",
       "├─────────────────────┼───────────────────┼────────────┼───────────────────┤\n",
       "│ dense_3 (<span style=\"color: #0087ff; text-decoration-color: #0087ff\">Dense</span>)     │ (<span style=\"color: #00d7ff; text-decoration-color: #00d7ff\">None</span>, <span style=\"color: #00af00; text-decoration-color: #00af00\">11</span>)        │        <span style=\"color: #00af00; text-decoration-color: #00af00\">715</span> │ dropout_1[<span style=\"color: #00af00; text-decoration-color: #00af00\">0</span>][<span style=\"color: #00af00; text-decoration-color: #00af00\">0</span>]   │\n",
       "└─────────────────────┴───────────────────┴────────────┴───────────────────┘\n",
       "</pre>\n"
      ],
      "text/plain": [
       "┏━━━━━━━━━━━━━━━━━━━━━┳━━━━━━━━━━━━━━━━━━━┳━━━━━━━━━━━━┳━━━━━━━━━━━━━━━━━━━┓\n",
       "┃\u001b[1m \u001b[0m\u001b[1mLayer (type)       \u001b[0m\u001b[1m \u001b[0m┃\u001b[1m \u001b[0m\u001b[1mOutput Shape     \u001b[0m\u001b[1m \u001b[0m┃\u001b[1m \u001b[0m\u001b[1m   Param #\u001b[0m\u001b[1m \u001b[0m┃\u001b[1m \u001b[0m\u001b[1mConnected to     \u001b[0m\u001b[1m \u001b[0m┃\n",
       "┡━━━━━━━━━━━━━━━━━━━━━╇━━━━━━━━━━━━━━━━━━━╇━━━━━━━━━━━━╇━━━━━━━━━━━━━━━━━━━┩\n",
       "│ IQ_Input            │ (\u001b[38;5;45mNone\u001b[0m, \u001b[38;5;34m2\u001b[0m, \u001b[38;5;34m128\u001b[0m)    │          \u001b[38;5;34m0\u001b[0m │ -                 │\n",
       "│ (\u001b[38;5;33mInputLayer\u001b[0m)        │                   │            │                   │\n",
       "├─────────────────────┼───────────────────┼────────────┼───────────────────┤\n",
       "│ permute (\u001b[38;5;33mPermute\u001b[0m)   │ (\u001b[38;5;45mNone\u001b[0m, \u001b[38;5;34m128\u001b[0m, \u001b[38;5;34m2\u001b[0m)    │          \u001b[38;5;34m0\u001b[0m │ IQ_Input[\u001b[38;5;34m0\u001b[0m][\u001b[38;5;34m0\u001b[0m]    │\n",
       "├─────────────────────┼───────────────────┼────────────┼───────────────────┤\n",
       "│ conv1d (\u001b[38;5;33mConv1D\u001b[0m)     │ (\u001b[38;5;45mNone\u001b[0m, \u001b[38;5;34m128\u001b[0m, \u001b[38;5;34m32\u001b[0m)   │        \u001b[38;5;34m224\u001b[0m │ permute[\u001b[38;5;34m0\u001b[0m][\u001b[38;5;34m0\u001b[0m]     │\n",
       "├─────────────────────┼───────────────────┼────────────┼───────────────────┤\n",
       "│ conv1d_1 (\u001b[38;5;33mConv1D\u001b[0m)   │ (\u001b[38;5;45mNone\u001b[0m, \u001b[38;5;34m128\u001b[0m, \u001b[38;5;34m32\u001b[0m)   │      \u001b[38;5;34m3,104\u001b[0m │ conv1d[\u001b[38;5;34m0\u001b[0m][\u001b[38;5;34m0\u001b[0m]      │\n",
       "├─────────────────────┼───────────────────┼────────────┼───────────────────┤\n",
       "│ spatial_dropout1d   │ (\u001b[38;5;45mNone\u001b[0m, \u001b[38;5;34m128\u001b[0m, \u001b[38;5;34m32\u001b[0m)   │          \u001b[38;5;34m0\u001b[0m │ conv1d_1[\u001b[38;5;34m0\u001b[0m][\u001b[38;5;34m0\u001b[0m]    │\n",
       "│ (\u001b[38;5;33mSpatialDropout1D\u001b[0m)  │                   │            │                   │\n",
       "├─────────────────────┼───────────────────┼────────────┼───────────────────┤\n",
       "│ flatten (\u001b[38;5;33mFlatten\u001b[0m)   │ (\u001b[38;5;45mNone\u001b[0m, \u001b[38;5;34m4096\u001b[0m)      │          \u001b[38;5;34m0\u001b[0m │ spatial_dropout1… │\n",
       "├─────────────────────┼───────────────────┼────────────┼───────────────────┤\n",
       "│ dense (\u001b[38;5;33mDense\u001b[0m)       │ (\u001b[38;5;45mNone\u001b[0m, \u001b[38;5;34m128\u001b[0m)       │    \u001b[38;5;34m524,416\u001b[0m │ flatten[\u001b[38;5;34m0\u001b[0m][\u001b[38;5;34m0\u001b[0m]     │\n",
       "├─────────────────────┼───────────────────┼────────────┼───────────────────┤\n",
       "│ SNR_Input           │ (\u001b[38;5;45mNone\u001b[0m, \u001b[38;5;34m1\u001b[0m)         │          \u001b[38;5;34m0\u001b[0m │ -                 │\n",
       "│ (\u001b[38;5;33mInputLayer\u001b[0m)        │                   │            │                   │\n",
       "├─────────────────────┼───────────────────┼────────────┼───────────────────┤\n",
       "│ dropout (\u001b[38;5;33mDropout\u001b[0m)   │ (\u001b[38;5;45mNone\u001b[0m, \u001b[38;5;34m128\u001b[0m)       │          \u001b[38;5;34m0\u001b[0m │ dense[\u001b[38;5;34m0\u001b[0m][\u001b[38;5;34m0\u001b[0m]       │\n",
       "├─────────────────────┼───────────────────┼────────────┼───────────────────┤\n",
       "│ dense_1 (\u001b[38;5;33mDense\u001b[0m)     │ (\u001b[38;5;45mNone\u001b[0m, \u001b[38;5;34m8\u001b[0m)         │         \u001b[38;5;34m16\u001b[0m │ SNR_Input[\u001b[38;5;34m0\u001b[0m][\u001b[38;5;34m0\u001b[0m]   │\n",
       "├─────────────────────┼───────────────────┼────────────┼───────────────────┤\n",
       "│ concatenate         │ (\u001b[38;5;45mNone\u001b[0m, \u001b[38;5;34m136\u001b[0m)       │          \u001b[38;5;34m0\u001b[0m │ dropout[\u001b[38;5;34m0\u001b[0m][\u001b[38;5;34m0\u001b[0m],    │\n",
       "│ (\u001b[38;5;33mConcatenate\u001b[0m)       │                   │            │ dense_1[\u001b[38;5;34m0\u001b[0m][\u001b[38;5;34m0\u001b[0m]     │\n",
       "├─────────────────────┼───────────────────┼────────────┼───────────────────┤\n",
       "│ dense_2 (\u001b[38;5;33mDense\u001b[0m)     │ (\u001b[38;5;45mNone\u001b[0m, \u001b[38;5;34m64\u001b[0m)        │      \u001b[38;5;34m8,768\u001b[0m │ concatenate[\u001b[38;5;34m0\u001b[0m][\u001b[38;5;34m0\u001b[0m] │\n",
       "├─────────────────────┼───────────────────┼────────────┼───────────────────┤\n",
       "│ dropout_1 (\u001b[38;5;33mDropout\u001b[0m) │ (\u001b[38;5;45mNone\u001b[0m, \u001b[38;5;34m64\u001b[0m)        │          \u001b[38;5;34m0\u001b[0m │ dense_2[\u001b[38;5;34m0\u001b[0m][\u001b[38;5;34m0\u001b[0m]     │\n",
       "├─────────────────────┼───────────────────┼────────────┼───────────────────┤\n",
       "│ dense_3 (\u001b[38;5;33mDense\u001b[0m)     │ (\u001b[38;5;45mNone\u001b[0m, \u001b[38;5;34m11\u001b[0m)        │        \u001b[38;5;34m715\u001b[0m │ dropout_1[\u001b[38;5;34m0\u001b[0m][\u001b[38;5;34m0\u001b[0m]   │\n",
       "└─────────────────────┴───────────────────┴────────────┴───────────────────┘\n"
      ]
     },
     "metadata": {},
     "output_type": "display_data"
    },
    {
     "data": {
      "text/html": [
       "<pre style=\"white-space:pre;overflow-x:auto;line-height:normal;font-family:Menlo,'DejaVu Sans Mono',consolas,'Courier New',monospace\"><span style=\"font-weight: bold\"> Total params: </span><span style=\"color: #00af00; text-decoration-color: #00af00\">537,243</span> (2.05 MB)\n",
       "</pre>\n"
      ],
      "text/plain": [
       "\u001b[1m Total params: \u001b[0m\u001b[38;5;34m537,243\u001b[0m (2.05 MB)\n"
      ]
     },
     "metadata": {},
     "output_type": "display_data"
    },
    {
     "data": {
      "text/html": [
       "<pre style=\"white-space:pre;overflow-x:auto;line-height:normal;font-family:Menlo,'DejaVu Sans Mono',consolas,'Courier New',monospace\"><span style=\"font-weight: bold\"> Trainable params: </span><span style=\"color: #00af00; text-decoration-color: #00af00\">537,243</span> (2.05 MB)\n",
       "</pre>\n"
      ],
      "text/plain": [
       "\u001b[1m Trainable params: \u001b[0m\u001b[38;5;34m537,243\u001b[0m (2.05 MB)\n"
      ]
     },
     "metadata": {},
     "output_type": "display_data"
    },
    {
     "data": {
      "text/html": [
       "<pre style=\"white-space:pre;overflow-x:auto;line-height:normal;font-family:Menlo,'DejaVu Sans Mono',consolas,'Courier New',monospace\"><span style=\"font-weight: bold\"> Non-trainable params: </span><span style=\"color: #00af00; text-decoration-color: #00af00\">0</span> (0.00 B)\n",
       "</pre>\n"
      ],
      "text/plain": [
       "\u001b[1m Non-trainable params: \u001b[0m\u001b[38;5;34m0\u001b[0m (0.00 B)\n"
      ]
     },
     "metadata": {},
     "output_type": "display_data"
    }
   ],
   "source": [
    "num_classes=len(Selected_mods)\n",
    "iq_input = Input(shape=(2,128), name='IQ_Input')\n",
    "x = layers.Permute((2,1))(iq_input)  # Conv1d operete on colouns filters get large no improvement \n",
    "#32 filters used\n",
    "x = layers.Conv1D(32, 3, activation='relu', padding='same', kernel_regularizer=tf.keras.regularizers.l2(1e-4))(x)#128x32\n",
    "x = layers.Conv1D(32, 3, activation='relu', padding='same', kernel_regularizer=tf.keras.regularizers.l2(1e-4))(x)\n",
    "x = layers.SpatialDropout1D(0.2)(x)  # regularize convolutional layers\n",
    "x = layers.Flatten()(x)#for dense layer (bact size,128x32)\n",
    "x = layers.Dense(128, activation='relu', kernel_regularizer=tf.keras.regularizers.l2(1e-4))(x)\n",
    "x = layers.Dropout(0.4)(x)  #dropout 40% off randomly\n",
    "\n",
    "# SNR input\n",
    "snr_input = Input(shape=(1,), name='SNR_Input')\n",
    "y = layers.Dense(8, activation='relu', kernel_regularizer=tf.keras.regularizers.l2(1e-4))(snr_input)\n",
    "\n",
    "# Combine IQ and SNR features\n",
    "combined = layers.concatenate([x, y])\n",
    "z = layers.Dense(64, activation='relu', kernel_regularizer=tf.keras.regularizers.l2(1e-4))(combined)\n",
    "z = layers.Dropout(0.4)(z)\n",
    "output = layers.Dense(num_classes, activation='softmax')(z)\n",
    "\n",
    "# Create model\n",
    "model = models.Model(inputs=[iq_input, snr_input], outputs=output)\n",
    "\n",
    "# Compile\n",
    "model.compile(optimizer='adam',\n",
    "              loss='sparse_categorical_crossentropy',  #Loss=−log(ptrue_class​)\n",
    "              metrics=['accuracy'])\n",
    "\n",
    "model.summary()"
   ]
  },
  {
   "cell_type": "markdown",
   "id": "336fa517-793f-4251-b739-849b87516d27",
   "metadata": {},
   "source": [
    "              IQ Input (2,128)\n",
    "                  |\n",
    "            Permute \n",
    "                  |\n",
    "            Conv1D(32, kernel=3) \n",
    "                  |\n",
    "            Conv1D(32, kernel=3)\n",
    "                  |\n",
    "                Flatten \n",
    "                  |\n",
    "           Dense(128, activation='relu')\n",
    "                  |\n",
    "                  |                    SNR Input (1,)\n",
    "                  |                          |\n",
    "                  |                     Dense(8, activation='relu')\n",
    "                  |                          |\n",
    "                  +----------Concatenate-----------+\n",
    "                              |\n",
    "                        Dense(64, activation='relu')\n",
    "                              |\n",
    "                     Dense(num_classes=11, activation='softmax')\n",
    "                              |\n",
    "                         Output (11,)\n"
   ]
  },
  {
   "cell_type": "code",
   "execution_count": 7,
   "id": "6c8f1697-6b38-46fb-b7bb-fdc521fadabd",
   "metadata": {},
   "outputs": [
    {
     "name": "stdout",
     "output_type": "stream",
     "text": [
      "Epoch 1/50\n",
      "\u001b[1m581/581\u001b[0m \u001b[32m━━━━━━━━━━━━━━━━━━━━\u001b[0m\u001b[37m\u001b[0m \u001b[1m9s\u001b[0m 13ms/step - accuracy: 0.2450 - loss: 1.9500 - val_accuracy: 0.4532 - val_loss: 1.2889\n",
      "Epoch 2/50\n",
      "\u001b[1m581/581\u001b[0m \u001b[32m━━━━━━━━━━━━━━━━━━━━\u001b[0m\u001b[37m\u001b[0m \u001b[1m6s\u001b[0m 10ms/step - accuracy: 0.4222 - loss: 1.3446 - val_accuracy: 0.4968 - val_loss: 1.0995\n",
      "Epoch 3/50\n",
      "\u001b[1m581/581\u001b[0m \u001b[32m━━━━━━━━━━━━━━━━━━━━\u001b[0m\u001b[37m\u001b[0m \u001b[1m12s\u001b[0m 14ms/step - accuracy: 0.4769 - loss: 1.1803 - val_accuracy: 0.5086 - val_loss: 1.0600\n",
      "Epoch 4/50\n",
      "\u001b[1m581/581\u001b[0m \u001b[32m━━━━━━━━━━━━━━━━━━━━\u001b[0m\u001b[37m\u001b[0m \u001b[1m9s\u001b[0m 12ms/step - accuracy: 0.4913 - loss: 1.1312 - val_accuracy: 0.5162 - val_loss: 1.0436\n",
      "Epoch 5/50\n",
      "\u001b[1m581/581\u001b[0m \u001b[32m━━━━━━━━━━━━━━━━━━━━\u001b[0m\u001b[37m\u001b[0m \u001b[1m7s\u001b[0m 11ms/step - accuracy: 0.5070 - loss: 1.1054 - val_accuracy: 0.5214 - val_loss: 1.0413\n",
      "Epoch 6/50\n",
      "\u001b[1m581/581\u001b[0m \u001b[32m━━━━━━━━━━━━━━━━━━━━\u001b[0m\u001b[37m\u001b[0m \u001b[1m6s\u001b[0m 10ms/step - accuracy: 0.5059 - loss: 1.0923 - val_accuracy: 0.5222 - val_loss: 1.0233\n",
      "Epoch 7/50\n",
      "\u001b[1m581/581\u001b[0m \u001b[32m━━━━━━━━━━━━━━━━━━━━\u001b[0m\u001b[37m\u001b[0m \u001b[1m7s\u001b[0m 12ms/step - accuracy: 0.5121 - loss: 1.0837 - val_accuracy: 0.5369 - val_loss: 1.0262\n",
      "Epoch 8/50\n",
      "\u001b[1m581/581\u001b[0m \u001b[32m━━━━━━━━━━━━━━━━━━━━\u001b[0m\u001b[37m\u001b[0m \u001b[1m10s\u001b[0m 12ms/step - accuracy: 0.5190 - loss: 1.0706 - val_accuracy: 0.5308 - val_loss: 1.0164\n",
      "Epoch 9/50\n",
      "\u001b[1m581/581\u001b[0m \u001b[32m━━━━━━━━━━━━━━━━━━━━\u001b[0m\u001b[37m\u001b[0m \u001b[1m8s\u001b[0m 14ms/step - accuracy: 0.5257 - loss: 1.0598 - val_accuracy: 0.5350 - val_loss: 1.0185\n",
      "Epoch 10/50\n",
      "\u001b[1m581/581\u001b[0m \u001b[32m━━━━━━━━━━━━━━━━━━━━\u001b[0m\u001b[37m\u001b[0m \u001b[1m8s\u001b[0m 13ms/step - accuracy: 0.5300 - loss: 1.0578 - val_accuracy: 0.5352 - val_loss: 1.0307\n",
      "Epoch 11/50\n",
      "\u001b[1m581/581\u001b[0m \u001b[32m━━━━━━━━━━━━━━━━━━━━\u001b[0m\u001b[37m\u001b[0m \u001b[1m6s\u001b[0m 11ms/step - accuracy: 0.5280 - loss: 1.0558 - val_accuracy: 0.5499 - val_loss: 1.0149\n",
      "Epoch 12/50\n",
      "\u001b[1m581/581\u001b[0m \u001b[32m━━━━━━━━━━━━━━━━━━━━\u001b[0m\u001b[37m\u001b[0m \u001b[1m7s\u001b[0m 12ms/step - accuracy: 0.5336 - loss: 1.0509 - val_accuracy: 0.5516 - val_loss: 1.0081\n",
      "Epoch 13/50\n",
      "\u001b[1m581/581\u001b[0m \u001b[32m━━━━━━━━━━━━━━━━━━━━\u001b[0m\u001b[37m\u001b[0m \u001b[1m8s\u001b[0m 13ms/step - accuracy: 0.5452 - loss: 1.0428 - val_accuracy: 0.5488 - val_loss: 1.0082\n",
      "Epoch 14/50\n",
      "\u001b[1m581/581\u001b[0m \u001b[32m━━━━━━━━━━━━━━━━━━━━\u001b[0m\u001b[37m\u001b[0m \u001b[1m8s\u001b[0m 14ms/step - accuracy: 0.5475 - loss: 1.0425 - val_accuracy: 0.5529 - val_loss: 1.0050\n",
      "Epoch 15/50\n",
      "\u001b[1m581/581\u001b[0m \u001b[32m━━━━━━━━━━━━━━━━━━━━\u001b[0m\u001b[37m\u001b[0m \u001b[1m8s\u001b[0m 10ms/step - accuracy: 0.5556 - loss: 1.0339 - val_accuracy: 0.5623 - val_loss: 1.0052\n",
      "Epoch 16/50\n",
      "\u001b[1m581/581\u001b[0m \u001b[32m━━━━━━━━━━━━━━━━━━━━\u001b[0m\u001b[37m\u001b[0m \u001b[1m7s\u001b[0m 11ms/step - accuracy: 0.5597 - loss: 1.0290 - val_accuracy: 0.5577 - val_loss: 1.0072\n",
      "Epoch 17/50\n",
      "\u001b[1m581/581\u001b[0m \u001b[32m━━━━━━━━━━━━━━━━━━━━\u001b[0m\u001b[37m\u001b[0m \u001b[1m7s\u001b[0m 12ms/step - accuracy: 0.5644 - loss: 1.0305 - val_accuracy: 0.5603 - val_loss: 1.0007\n",
      "Epoch 18/50\n",
      "\u001b[1m581/581\u001b[0m \u001b[32m━━━━━━━━━━━━━━━━━━━━\u001b[0m\u001b[37m\u001b[0m \u001b[1m8s\u001b[0m 13ms/step - accuracy: 0.5699 - loss: 1.0233 - val_accuracy: 0.5795 - val_loss: 0.9939\n",
      "Epoch 19/50\n",
      "\u001b[1m581/581\u001b[0m \u001b[32m━━━━━━━━━━━━━━━━━━━━\u001b[0m\u001b[37m\u001b[0m \u001b[1m6s\u001b[0m 10ms/step - accuracy: 0.5751 - loss: 1.0232 - val_accuracy: 0.5872 - val_loss: 0.9783\n",
      "Epoch 20/50\n",
      "\u001b[1m581/581\u001b[0m \u001b[32m━━━━━━━━━━━━━━━━━━━━\u001b[0m\u001b[37m\u001b[0m \u001b[1m7s\u001b[0m 11ms/step - accuracy: 0.5891 - loss: 0.9994 - val_accuracy: 0.6389 - val_loss: 0.9141\n",
      "Epoch 21/50\n",
      "\u001b[1m581/581\u001b[0m \u001b[32m━━━━━━━━━━━━━━━━━━━━\u001b[0m\u001b[37m\u001b[0m \u001b[1m7s\u001b[0m 12ms/step - accuracy: 0.6298 - loss: 0.9500 - val_accuracy: 0.6633 - val_loss: 0.8495\n",
      "Epoch 22/50\n",
      "\u001b[1m581/581\u001b[0m \u001b[32m━━━━━━━━━━━━━━━━━━━━\u001b[0m\u001b[37m\u001b[0m \u001b[1m9s\u001b[0m 15ms/step - accuracy: 0.6526 - loss: 0.9047 - val_accuracy: 0.6684 - val_loss: 0.8277\n",
      "Epoch 23/50\n",
      "\u001b[1m581/581\u001b[0m \u001b[32m━━━━━━━━━━━━━━━━━━━━\u001b[0m\u001b[37m\u001b[0m \u001b[1m7s\u001b[0m 12ms/step - accuracy: 0.6609 - loss: 0.8722 - val_accuracy: 0.6720 - val_loss: 0.8124\n",
      "Epoch 24/50\n",
      "\u001b[1m581/581\u001b[0m \u001b[32m━━━━━━━━━━━━━━━━━━━━\u001b[0m\u001b[37m\u001b[0m \u001b[1m8s\u001b[0m 13ms/step - accuracy: 0.6663 - loss: 0.8622 - val_accuracy: 0.6764 - val_loss: 0.8028\n",
      "Epoch 25/50\n",
      "\u001b[1m581/581\u001b[0m \u001b[32m━━━━━━━━━━━━━━━━━━━━\u001b[0m\u001b[37m\u001b[0m \u001b[1m8s\u001b[0m 13ms/step - accuracy: 0.6747 - loss: 0.8539 - val_accuracy: 0.6709 - val_loss: 0.8073\n",
      "Epoch 26/50\n",
      "\u001b[1m581/581\u001b[0m \u001b[32m━━━━━━━━━━━━━━━━━━━━\u001b[0m\u001b[37m\u001b[0m \u001b[1m8s\u001b[0m 14ms/step - accuracy: 0.6798 - loss: 0.8370 - val_accuracy: 0.6798 - val_loss: 0.7992\n",
      "Epoch 27/50\n",
      "\u001b[1m581/581\u001b[0m \u001b[32m━━━━━━━━━━━━━━━━━━━━\u001b[0m\u001b[37m\u001b[0m \u001b[1m9s\u001b[0m 11ms/step - accuracy: 0.6879 - loss: 0.8281 - val_accuracy: 0.6802 - val_loss: 0.7979\n",
      "Epoch 28/50\n",
      "\u001b[1m581/581\u001b[0m \u001b[32m━━━━━━━━━━━━━━━━━━━━\u001b[0m\u001b[37m\u001b[0m \u001b[1m6s\u001b[0m 11ms/step - accuracy: 0.6845 - loss: 0.8319 - val_accuracy: 0.6776 - val_loss: 0.8049\n",
      "Epoch 29/50\n",
      "\u001b[1m581/581\u001b[0m \u001b[32m━━━━━━━━━━━━━━━━━━━━\u001b[0m\u001b[37m\u001b[0m \u001b[1m8s\u001b[0m 14ms/step - accuracy: 0.6908 - loss: 0.8278 - val_accuracy: 0.6819 - val_loss: 0.7974\n",
      "Epoch 30/50\n",
      "\u001b[1m581/581\u001b[0m \u001b[32m━━━━━━━━━━━━━━━━━━━━\u001b[0m\u001b[37m\u001b[0m \u001b[1m10s\u001b[0m 14ms/step - accuracy: 0.6977 - loss: 0.8152 - val_accuracy: 0.6862 - val_loss: 0.8013\n",
      "Epoch 31/50\n",
      "\u001b[1m581/581\u001b[0m \u001b[32m━━━━━━━━━━━━━━━━━━━━\u001b[0m\u001b[37m\u001b[0m \u001b[1m7s\u001b[0m 12ms/step - accuracy: 0.6967 - loss: 0.8132 - val_accuracy: 0.6838 - val_loss: 0.8070\n",
      "Epoch 32/50\n",
      "\u001b[1m581/581\u001b[0m \u001b[32m━━━━━━━━━━━━━━━━━━━━\u001b[0m\u001b[37m\u001b[0m \u001b[1m6s\u001b[0m 11ms/step - accuracy: 0.7008 - loss: 0.8089 - val_accuracy: 0.6845 - val_loss: 0.7975\n",
      "Epoch 33/50\n",
      "\u001b[1m581/581\u001b[0m \u001b[32m━━━━━━━━━━━━━━━━━━━━\u001b[0m\u001b[37m\u001b[0m \u001b[1m8s\u001b[0m 14ms/step - accuracy: 0.7060 - loss: 0.7997 - val_accuracy: 0.6874 - val_loss: 0.7993\n",
      "Epoch 34/50\n",
      "\u001b[1m581/581\u001b[0m \u001b[32m━━━━━━━━━━━━━━━━━━━━\u001b[0m\u001b[37m\u001b[0m \u001b[1m10s\u001b[0m 13ms/step - accuracy: 0.7071 - loss: 0.8048 - val_accuracy: 0.6865 - val_loss: 0.8029\n"
     ]
    }
   ],
   "source": [
    "early_stop = EarlyStopping(monitor='val_loss', patience=5, restore_best_weights=True)\n",
    "history = model.fit(\n",
    "    [X_train, SNR_train], Y_train,\n",
    "    validation_data=([X_val, SNR_val], Y_val),\n",
    "    epochs=50,\n",
    "    batch_size=128,\n",
    "    callbacks=[early_stop],\n",
    "    shuffle=True\n",
    ")\n"
   ]
  },
  {
   "cell_type": "code",
   "execution_count": 8,
   "id": "0dfb22d2-5a6e-4092-9a2d-d5b5d6afdf58",
   "metadata": {},
   "outputs": [
    {
     "data": {
      "image/png": "[encoded data removed]",
      "text/plain": [
       "<Figure size 640x480 with 1 Axes>"
      ]
     },
     "metadata": {},
     "output_type": "display_data"
    }
   ],
   "source": [
    "\n",
    "\n",
    "import matplotlib.pyplot as plt\n",
    "\n",
    "# Accuracy plot\n",
    "plt.plot(history.history['accuracy'], label='Train Acc')\n",
    "plt.plot(history.history['val_accuracy'], label='Val Acc')\n",
    "plt.title(\"Accuracy over Epochs\")\n",
    "plt.legend()\n",
    "plt.grid()\n",
    "plt.show()\n",
    "\n",
    "\n"
   ]
  },
  {
   "cell_type": "markdown",
   "id": "4599fdf2-d5cd-4b86-9d65-5c2360443085",
   "metadata": {},
   "source": [
    "## 69% accuracy is enough for snr values>0 and 11 classes here is slight overfiting attained max is about 80%"
   ]
  },
  {
   "cell_type": "code",
   "execution_count": 9,
   "id": "c663e314-0d3c-4181-b09f-7f37e5f64b80",
   "metadata": {},
   "outputs": [
    {
     "name": "stdout",
     "output_type": "stream",
     "text": [
      "\u001b[1m97/97\u001b[0m \u001b[32m━━━━━━━━━━━━━━━━━━━━\u001b[0m\u001b[37m\u001b[0m \u001b[1m1s\u001b[0m 4ms/step - accuracy: 0.6758 - loss: 0.7912   \n",
      "Test Accuracy: 68.30%\n",
      "Test Loss: 0.7980\n"
     ]
    }
   ],
   "source": [
    "test_loss, test_acc = model.evaluate(\n",
    "    {'IQ_Input': X_test, 'SNR_Input': SNR_test},\n",
    "    Y_test,\n",
    "    batch_size=128\n",
    ")\n",
    "\n",
    "print(f\"Test Accuracy: {test_acc*100:.2f}%\")\n",
    "print(f\"Test Loss: {test_loss:.4f}\")\n"
   ]
  },
  {
   "cell_type": "code",
   "execution_count": 10,
   "id": "fdc334d0-592f-44ff-8366-bcd0886b3c33",
   "metadata": {},
   "outputs": [],
   "source": [
    "#save the model\n",
    "model.save(\"modulation_model.keras\")\n"
   ]
  },
  {
   "cell_type": "code",
   "execution_count": 15,
   "id": "4066f88f-db7b-4d03-8b8f-5e44499a6287",
   "metadata": {},
   "outputs": [
    {
     "name": "stdout",
     "output_type": "stream",
     "text": [
      "\u001b[1m387/387\u001b[0m \u001b[32m━━━━━━━━━━━━━━━━━━━━\u001b[0m\u001b[37m\u001b[0m \u001b[1m1s\u001b[0m 1ms/step  \n",
      "[2.1391898e-01 6.8244845e-09 3.9914690e-12 4.6823774e-07 2.6498470e-01\n",
      " 3.0696051e-10 2.3573908e-01 2.8520080e-01 9.5106685e-08 1.5581616e-04\n",
      " 3.0010700e-08]\n",
      "7\n"
     ]
    }
   ],
   "source": [
    "model = tf.keras.models.load_model(\"modulation_model.keras\")\n",
    "Y_pred=model.predict({\"IQ_Input\":X_test,\"SNR_Input\":SNR_test})\n",
    "print(Y_pred[0])\n",
    "Y_pred_classes = np.argmax(Y_pred, axis=1)#max index\n",
    "print(Y_pred_classes[0])"
   ]
  },
  {
   "cell_type": "code",
   "execution_count": 16,
   "id": "b0224ccb-fd77-4af6-8d21-85eebb4c296d",
   "metadata": {},
   "outputs": [
    {
     "name": "stdout",
     "output_type": "stream",
     "text": [
      "Confusion Matrix:\n",
      " [[ 451    5    3    3    1    5  593   50    0   11    3]\n",
      " [   1 1057    3    2    0    5    2    9    4    0   42]\n",
      " [   0    0  387    0    2  693    1    2   39    0    1]\n",
      " [   1   14    2 1058    4    1    1    9   26    5    4]\n",
      " [  10    6    1    1   17    4  140  941    1    3    1]\n",
      " [   1    0  208    0    1  893    1    2   19    0    0]\n",
      " [  34    2    3    0    6    2 1022   52    0    4    0]\n",
      " [   6    4    0    2   14    4  130  962    0    2    1]\n",
      " [   1    6  216   22    1  390    3    4  481    1    0]\n",
      " [   1    1    0    3    2    0    6   13    0 1099    0]\n",
      " [   4   80    2    0    1    3    0    7    2    1 1025]]\n"
     ]
    }
   ],
   "source": [
    "from sklearn.metrics import confusion_matrix, f1_score, classification_report\n",
    "cm = confusion_matrix(Y_test, Y_pred_classes)\n",
    "print(\"Confusion Matrix:\\n\", cm)#true class x predicted class"
   ]
  },
  {
   "cell_type": "code",
   "execution_count": 18,
   "id": "d09451b6-be9a-47c3-8e4a-081cea1241ce",
   "metadata": {},
   "outputs": [
    {
     "name": "stdout",
     "output_type": "stream",
     "text": [
      "['QPSK', 'PAM4', 'AM-DSB', 'GFSK', 'QAM64', 'AM-SSB', '8PSK', 'QAM16', 'WBFM', 'CPFSK', 'BPSK']\n"
     ]
    }
   ],
   "source": [
    "Selected_mods=['QPSK', 'PAM4', 'AM-DSB', 'GFSK', 'QAM64', 'AM-SSB', '8PSK', 'QAM16', 'WBFM', 'CPFSK', 'BPSK']\n",
    "print(Selected_mods)"
   ]
  },
  {
   "cell_type": "markdown",
   "id": "d5518e4f-b064-43b7-b89f-7e8e280c5d1f",
   "metadata": {},
   "source": [
    "**True class 0 has predicted wrong way more predicted as class 6**  \n",
    "\n",
    "**True class 2 has wrong 5**  \n",
    "\n",
    "**True class 4 wrong 7**  \n",
    "\n",
    "**PAM4,GFSK,AM-SSB,8PSK,QAM16,CPFSK,,BPSK has predicted correctly**"
   ]
  },
  {
   "cell_type": "markdown",
   "id": "8660ab55-658f-447c-b131-151526b9a63a",
   "metadata": {},
   "source": [
    "**Some modulation schemes have very similar signal characteristics, especially under noisy conditions. eg-AM_SDB,AM_SSB and QPSK,8_PSK**  \n",
    "\n",
    "\n",
    "**Classes that have distinct features tend to be classified correctly more easily.**"
   ]
  },
  {
   "cell_type": "code",
   "execution_count": 17,
   "id": "b79f424e-8bcb-439d-a76b-740a4a7fe287",
   "metadata": {},
   "outputs": [
    {
     "name": "stdout",
     "output_type": "stream",
     "text": [
      "F1 Score (weighted): 0.6526\n"
     ]
    }
   ],
   "source": [
    "f1 = f1_score(Y_test, Y_pred_classes, average='weighted')\n",
    "print(f\"F1 Score (weighted): {f1:.4f}\")"
   ]
  },
  {
   "cell_type": "markdown",
   "id": "8d071aed-3afa-459a-a822-30c2255a18a3",
   "metadata": {},
   "source": [
    "## API"
   ]
  },
  {
   "cell_type": "markdown",
   "id": "6a10620e-55fe-4ade-bce5-26f35b91eea2",
   "metadata": {},
   "source": [
    "app = FastAPI() #full duplex,automatic ui,high performance\n",
    "model = tf.keras.models.load_model(\"modulation_model.keras\")\n",
    "\n",
    "@app.post(\"/predict\")#CREATE POST ENDPOINT\n",
    "#fastapi automatically calls this function request hits the endpoint /predict.\n",
    "def predict_modulation(data: list,SNR: int):\n",
    "    # data is your IQ sample array\n",
    "    sample = np.array(data)\n",
    "    size=sample.shape\n",
    "    if size!=(2,128):\n",
    "        if size==(128,2):\n",
    "            sample=sample.T\n",
    "        else:\n",
    "            raise HTTPException(\n",
    "                status_code=400,\n",
    "                detail=f\"Invalid input shape {size}, expected (2,128) or (128,2)\"\n",
    "            )\n",
    "            \n",
    "    pred = model.predict({\"iq_input\": sample, \"snr_input\": np.array([[SNR]])})\n",
    "    modulation_class = np.argmax(pred)\n",
    "    confidence = np.max(pred)\n",
    "    return {\"modulation\": int(modulation_class), \"confidence\": float(confidence)}\n"
   ]
  },
  {
   "cell_type": "markdown",
   "id": "f3fa0133-6274-4d02-b910-b074fda4d46c",
   "metadata": {},
   "source": [
    "iq_sample = np.random.rand(2, 128).tolist()\n",
    "\n",
    "# SNR value\n",
    "snr_value = [10]\n",
    "\n",
    "# Combine IQ sample and SNR\n",
    "data = iq_sample + [snr_value]\n",
    "\n",
    "arr = np.array(data)\n",
    "\n",
    "    # Last row is SNR\n",
    "SNR = arr[-1][0]\n",
    "    # First rows are IQ data\n",
    "sample = arr[:-1]\n",
    "\n",
    "size = sample.shape\n",
    "if size != (2, 128):\n",
    "        if size == (128, 2):\n",
    "            sample = sample.T\n",
    "        else:\n",
    "            raise HTTPException(\n",
    "                status_code=400,\n",
    "                detail=f\"Invalid input shape {size}, expected (2,128) or (128,2)\"\n",
    "            )\n",
    "\n",
    "pred = model.predict({\"iq_input\": [sample], \"snr_input\": np.array([[SNR]])})\n"
   ]
  },
  {
   "cell_type": "code",
   "execution_count": 1,
   "id": "cc858329-08fd-4bc2-a1d8-a561916653ea",
   "metadata": {},
   "outputs": [],
   "source": []
  },
  {
   "cell_type": "code",
   "execution_count": null,
   "id": "47dad231-fe00-4d43-b90b-4e6160d1427b",
   "metadata": {},
   "outputs": [],
   "source": []
  }
 ],
 "metadata": {
  "kernelspec": {
   "display_name": "Python (tf_env)",
   "language": "python",
   "name": "tf_env"
  },
  "language_info": {
   "codemirror_mode": {
    "name": "ipython",
    "version": 3
   },
   "file_extension": ".py",
   "mimetype": "text/x-python",
   "name": "python",
   "nbconvert_exporter": "python",
   "pygments_lexer": "ipython3",
   "version": "3.9.23"
  }
 },
 "nbformat": 4,
 "nbformat_minor": 5
}
