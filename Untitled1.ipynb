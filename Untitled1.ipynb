{
 "cells": [
  {
   "cell_type": "markdown",
   "id": "52429d88-ae03-415e-a065-0f7a2fee3972",
   "metadata": {},
   "source": [
    "## With SNR \n",
    "**We can measure SNR using tf signal power if we know it**  \n",
    "$ \\text{SNR} = \\log_{10}\\!\\left(\\dfrac{TP}{TP - RP}\\right) $\n"
   ]
  },
  {
   "cell_type": "code",
   "execution_count": 1,
   "id": "5f4024e8-196e-444f-ba91-8df73fdec001",
   "metadata": {},
   "outputs": [
    {
     "name": "stdout",
     "output_type": "stream",
     "text": [
      "TensorFlow version: 2.19.0\n"
     ]
    }
   ],
   "source": [
    "import tensorflow as tf\n",
    "print(\"TensorFlow version:\", tf.__version__)\n",
    "import numpy as np\n",
    "import pickle\n",
    "from tensorflow.keras import layers, models, Input"
   ]
  },
  {
   "cell_type": "code",
   "execution_count": 2,
   "id": "22975d7a-d83f-4f31-a079-1363e05bca45",
   "metadata": {},
   "outputs": [
    {
     "name": "stdout",
     "output_type": "stream",
     "text": [
      "Number of keys: 220\n",
      "Example key: ('QPSK', 2)\n",
      "Shape of one sample: (2, 128)\n",
      "Rows: I/Q Components \n",
      "Colomns:Samples for 128 time instances\n",
      "Shape of sample on one scheme: (1000, 2, 128)\n",
      "First Sample [[-1.0265000e-03  5.8502653e-03 -9.3906338e-04 -2.2335863e-03\n",
      "  -1.3568916e-04 -6.8309228e-04  4.1412762e-03  1.2770405e-03\n",
      "  -3.4695407e-03 -6.4070662e-04  1.9288055e-03 -3.1959298e-03\n",
      "   1.9657889e-03  2.2193526e-03  2.2501240e-03  1.0834818e-03\n",
      "  -3.2876425e-03  3.2260290e-03  1.8539119e-03  1.4974185e-03\n",
      "  -4.7951085e-03 -5.2285631e-04  1.1597933e-04  5.3670054e-04\n",
      "  -1.6577138e-03  3.5826277e-03 -2.8328735e-03  1.7530784e-03\n",
      "  -2.4740885e-03 -1.5094796e-03  9.3733874e-04 -1.8275570e-03\n",
      "  -2.8713259e-03 -1.5362875e-03 -3.7586095e-04  8.5423136e-04\n",
      "  -1.8415806e-03 -2.6825715e-03 -1.2375436e-03 -3.1134628e-03\n",
      "   4.5682848e-03 -1.5236636e-03  7.2360924e-03 -1.0099898e-03\n",
      "  -3.1587915e-04 -5.8839722e-03  2.0147045e-03 -3.5786787e-03\n",
      "   1.0269805e-03  7.5495308e-03  3.1257968e-03  1.8570216e-03\n",
      "  -1.2018427e-03  4.0862658e-03  5.4867996e-04  2.1613929e-03\n",
      "   1.5243380e-03  1.4144264e-03  1.1518439e-03 -1.3142801e-03\n",
      "   4.1722045e-03  4.9374569e-03 -7.9749653e-04 -2.4557314e-03\n",
      "  -7.6919084e-04 -1.1952325e-03 -2.6515960e-03 -9.6110813e-04\n",
      "   2.6968475e-03  5.8432035e-03  4.6153963e-03  5.5554183e-03\n",
      "   6.8980367e-03  1.6410357e-03  6.4463066e-03  9.1148606e-03\n",
      "   1.3471834e-02  8.7870369e-03  9.9787610e-03  1.1449819e-02\n",
      "   2.2705924e-03  6.8095601e-03  4.0298747e-03  9.9280635e-03\n",
      "   9.5167514e-03  3.2403381e-03  1.0488763e-02  9.6698711e-03\n",
      "   7.9459054e-03  4.3619680e-03 -2.5507570e-03  1.0677358e-02\n",
      "   8.9045642e-03  1.0664136e-02  1.1790678e-02  7.5646704e-03\n",
      "   1.2927452e-02  1.1384122e-02  1.0294649e-02  9.6527403e-03\n",
      "   1.3992495e-02  2.5422985e-03 -3.2227943e-03 -6.1395922e-04\n",
      "  -6.5222918e-03 -7.8658117e-03 -1.1964867e-02 -1.0438381e-02\n",
      "  -1.4456270e-02 -7.2105830e-03 -1.7102031e-03  7.7771617e-04\n",
      "   4.6408651e-03  8.6338203e-03  8.1222085e-03  1.2156066e-02\n",
      "   1.2616078e-02  8.7663420e-03  1.1913567e-02 -3.0887392e-03\n",
      "  -5.8716461e-03 -6.7176945e-03 -1.5145686e-02 -1.0507351e-02\n",
      "  -1.2254140e-02 -7.7117234e-03 -1.2606060e-02 -1.1883082e-02]\n",
      " [ 4.9492717e-03  6.0489341e-03 -4.2515874e-04 -2.7829695e-03\n",
      "  -3.5882799e-03  1.5381657e-03 -3.6846155e-03  1.2332476e-03\n",
      "  -7.8738281e-05  3.6926833e-03 -9.8390609e-04  4.4966512e-03\n",
      "  -5.0295498e-03 -4.4308035e-04  3.3664962e-03 -1.7339691e-03\n",
      "   9.5076836e-04  1.8495844e-03  3.1974053e-04 -4.5364820e-03\n",
      "   6.5929559e-04 -6.2332791e-04  3.2828895e-03  7.1981811e-04\n",
      "  -3.0421175e-03 -3.2826304e-04 -1.0604921e-03 -3.1767183e-03\n",
      "  -4.1620214e-03 -9.1494797e-03  3.5946774e-03 -2.4160789e-03\n",
      "   6.0059523e-05  6.3300375e-03 -8.3270349e-04  4.8547145e-03\n",
      "   2.7689626e-03 -4.2653172e-03 -1.5813838e-03 -1.8270906e-03\n",
      "   7.3221200e-03 -4.2773071e-03  9.6235250e-04 -5.6133402e-04\n",
      "   1.9552779e-06  6.1253551e-04  4.6512526e-03  9.4891191e-03\n",
      "   5.6190318e-03  3.2920407e-03 -4.0235696e-03 -5.0677505e-04\n",
      "  -8.9918158e-04  3.3651097e-03 -2.9525738e-03 -2.0493369e-03\n",
      "  -5.5619504e-04 -1.4885528e-03  2.0249696e-03  4.0757051e-04\n",
      "   4.2566797e-03 -3.6507498e-03 -2.2951404e-03 -2.8905359e-03\n",
      "   1.9051064e-03  6.5854896e-04 -2.0906489e-04 -5.2039661e-03\n",
      "   2.5214169e-03  9.2102960e-03 -5.1632938e-03  3.4161105e-03\n",
      "   6.2476373e-03  8.1844656e-03  1.5177163e-02  1.0647684e-02\n",
      "   1.2071611e-02  1.2239130e-02  1.1519340e-02  1.2003963e-02\n",
      "   3.7997572e-03  8.2668383e-03  6.8565244e-03  5.3605135e-03\n",
      "   1.3018298e-02  1.6621992e-02  1.4535165e-02  1.7735790e-02\n",
      "   8.3584581e-03  2.1781588e-02  1.3019555e-02  5.5557494e-03\n",
      "   8.0664232e-03  2.5722922e-03  3.9416351e-03 -2.2321532e-03\n",
      "  -1.3786751e-02 -8.8789994e-03 -5.2147545e-03 -7.0363590e-03\n",
      "  -1.9231627e-03 -4.6812776e-03 -8.5006505e-03  2.1504436e-03\n",
      "  -6.7994866e-04  5.8816182e-03  4.3287030e-03  9.5704636e-03\n",
      "   1.1726572e-02  5.7089009e-04  1.2270860e-02  8.5907225e-03\n",
      "   1.4439253e-02  9.1842692e-03  6.8357605e-03  8.8307653e-03\n",
      "   5.3219204e-03  2.4157036e-03 -1.5883825e-03 -3.1044197e-03\n",
      "  -4.5272740e-04 -5.7287957e-03 -1.3186048e-02 -1.4643853e-02\n",
      "  -1.6109681e-02 -9.0714619e-03 -1.5085516e-02 -9.6571390e-03]]\n",
      "['QPSK', 'PAM4', 'AM-DSB', 'GFSK', 'QAM64', 'AM-SSB', '8PSK', 'QAM16', 'WBFM', 'CPFSK', 'BPSK']\n",
      "Number of modulation schemes 11.\n",
      "[-20, -18, -16, -14, -12, -10, -8, -6, -4, -2, 0, 2, 4, 6, 8, 10, 12, 14, 16, 18]\n",
      "Number of SNR values 20.\n"
     ]
    }
   ],
   "source": [
    "with open(\"RML2016.10a_dict.pkl\", 'rb') as f:\n",
    "    data_dict = pickle.load(f)\n",
    "\n",
    "#Structure: key = (modulation_type, snr)\n",
    "keys=list(data_dict.keys())\n",
    "class_1=data_dict[keys[0]]#list of one class\n",
    "print(\"Number of keys:\", len(keys))\n",
    "print(\"Example key:\", keys[0])\n",
    "print(\"Shape of one sample:\", class_1[0].shape)#acces first element of first key in dictionary\n",
    "print(f\"Rows: I/Q Components \\nColomns:Samples for {class_1[0].shape[1]} time instances\")\n",
    "print(\"Shape of sample on one scheme:\", class_1.shape)\n",
    "print(\"First Sample\",class_1[0])\n",
    "\n",
    "#mod shemes\n",
    "mod_schemes=[]\n",
    "snr_values=[]\n",
    "for tup in keys:\n",
    "    if tup[0] not in mod_schemes:\n",
    "        mod_schemes.append(tup[0])\n",
    "    if tup[1] not in snr_values:\n",
    "        snr_values.append(tup[1])\n",
    "print(mod_schemes)\n",
    "\n",
    "print(f\"Number of modulation schemes {len(mod_schemes)}.\") \n",
    "temp=snr_values\n",
    "temp.sort()\n",
    "print(temp)\n",
    "print(f\"Number of SNR values {len(snr_values)}.\")  "
   ]
  },
  {
   "cell_type": "markdown",
   "id": "79d1f5c0-cfd1-415f-9713-4d3c76d90624",
   "metadata": {},
   "source": [
    "**There are 220 keys for various schemes and SNR values.**  \n",
    "**Each key is a (MOD,SNR) tuple**  \n",
    "**Each tuple maps in to 1000x2x128 array [  [ [128],[128] ],...1000]**  \n",
    "**Row of each example represents I/Q components while column represents samples from 128 time instances**   \n",
    "**Totally dataset has 11 schemes over 20 snr values**  \n",
    "**220 keys mean 220x1000 examples**\n",
    "\n"
   ]
  },
  {
   "cell_type": "markdown",
   "id": "540b3d4f-9c3f-43d2-85f3-b746285dadfc",
   "metadata": {},
   "source": [
    "## Develop a neural network to output modulation scheme for given I/Q Example & SNR"
   ]
  },
  {
   "cell_type": "code",
   "execution_count": 27,
   "id": "31518159-5ac9-4220-bd7c-1d2a4ec987c1",
   "metadata": {},
   "outputs": [
    {
     "name": "stdout",
     "output_type": "stream",
     "text": [
      "IQ shape: (66000, 2, 128)\n",
      "SNR shape: (66000, 1)\n",
      "Labels shape: (66000,)\n"
     ]
    }
   ],
   "source": [
    "def normalize_iq(sample):\n",
    "    mean = np.mean(sample, axis=1, keepdims=True)\n",
    "    std = np.std(sample, axis=1, keepdims=True) + 1e-6 #all samples equal std=0\n",
    "    return (sample - mean) / std\n",
    "#The network may focus on power differences rather than the modulation pattern  if not normalized\n",
    "#create x,y\n",
    "X=[]\n",
    "Y=[]\n",
    "SNR=[]\n",
    "#Selected_mods=['BPSK', 'QPSK', 'QAM16', 'QAM64', 'GFSK', 'CPFSK']\n",
    "Selected_mods=['QPSK', 'PAM4', 'AM-DSB', 'GFSK', 'QAM64', 'AM-SSB', '8PSK', 'QAM16', 'WBFM', 'CPFSK', 'BPSK']\n",
    "for key in keys:\n",
    "   #if key[0] in Selected_mods:\n",
    "  if key[1]>6: #noise power<signal power\n",
    "    clz=data_dict[key]\n",
    "    for ex in clz:\n",
    "        \n",
    "        X.append(normalize_iq(ex))\n",
    "        SNR.append((key[1]+20)/38)\n",
    "        Y.append(Selected_mods.index(key[0]))\n",
    "        \n",
    "# Convert to numpy arrays for tensorflow\n",
    "X = np.array(X)     # shape: (total_samples, 2, 128)\n",
    "SNR = np.array(SNR) # shape: (total_samples, 1)\n",
    "Y = np.array(Y)     # shape: (total_samples,)\n",
    "SNR = SNR.reshape(-1, 1)        \n",
    "print(\"IQ shape:\", X.shape)\n",
    "print(\"SNR shape:\", SNR.shape)\n",
    "print(\"Labels shape:\", Y.shape)    "
   ]
  },
  {
   "cell_type": "markdown",
   "id": "4eee3878-f041-42b8-ae39-fc961bd7a45b",
   "metadata": {},
   "source": [
    "## Now split the data set to have all snr values equally distributed"
   ]
  },
  {
   "cell_type": "code",
   "execution_count": 28,
   "id": "bd528437-d0c8-4c84-9e6f-3138b245d7ea",
   "metadata": {},
   "outputs": [
    {
     "name": "stdout",
     "output_type": "stream",
     "text": [
      "Train shapes: (49500, 2, 128) (49500, 1) (49500,)\n",
      "Val shapes: (8250, 2, 128) (8250, 1) (8250,)\n",
      "Test shapes: (8250, 2, 128) (8250, 1) (8250,)\n"
     ]
    }
   ],
   "source": [
    "X_train, X_val, X_test = [], [], []\n",
    "SNR_train, SNR_val, SNR_test = [], [], []\n",
    "Y_train, Y_val, Y_test = [], [], []\n",
    "\n",
    "i = 0\n",
    "total_samples = len(X)\n",
    "\n",
    "while i < total_samples:\n",
    "    # take 1000 samples of the same SNR \n",
    "    batch_size = 1000\n",
    "    \n",
    "    # train: first 750\n",
    "    X_train.extend(X[i:i+750])\n",
    "    SNR_train.extend(SNR[i:i+750])\n",
    "    Y_train.extend(Y[i:i+750])\n",
    "    \n",
    "    # val: next 125\n",
    "    X_val.extend(X[i+750:i+875])\n",
    "    SNR_val.extend(SNR[i+750:i+875])\n",
    "    Y_val.extend(Y[i+750:i+875])\n",
    "    \n",
    "    # test: last 125\n",
    "    X_test.extend(X[i+875:i+1000])\n",
    "    SNR_test.extend(SNR[i+875:i+1000])\n",
    "    Y_test.extend(Y[i+875:i+1000])\n",
    "    \n",
    "    i += batch_size  # move to next SNR batch\n",
    "\n",
    "# convert to numpy arrays\n",
    "X_train = np.array(X_train)\n",
    "SNR_train = np.array(SNR_train)\n",
    "Y_train = np.array(Y_train)\n",
    "\n",
    "X_val = np.array(X_val)\n",
    "SNR_val = np.array(SNR_val)\n",
    "Y_val = np.array(Y_val)\n",
    "\n",
    "X_test = np.array(X_test)\n",
    "SNR_test = np.array(SNR_test)\n",
    "Y_test = np.array(Y_test)\n",
    "\n",
    "print(\"Train shapes:\", X_train.shape, SNR_train.shape, Y_train.shape)\n",
    "print(\"Val shapes:\", X_val.shape, SNR_val.shape, Y_val.shape)\n",
    "print(\"Test shapes:\", X_test.shape, SNR_test.shape, Y_test.shape)\n"
   ]
  },
  {
   "cell_type": "code",
   "execution_count": 29,
   "id": "967fa989-dff3-4491-9a64-b2a5a58dbded",
   "metadata": {},
   "outputs": [
    {
     "data": {
      "text/html": [
       "<pre style=\"white-space:pre;overflow-x:auto;line-height:normal;font-family:Menlo,'DejaVu Sans Mono',consolas,'Courier New',monospace\"><span style=\"font-weight: bold\">Model: \"functional_6\"</span>\n",
       "</pre>\n"
      ],
      "text/plain": [
       "\u001b[1mModel: \"functional_6\"\u001b[0m\n"
      ]
     },
     "metadata": {},
     "output_type": "display_data"
    },
    {
     "data": {
      "text/html": [
       "<pre style=\"white-space:pre;overflow-x:auto;line-height:normal;font-family:Menlo,'DejaVu Sans Mono',consolas,'Courier New',monospace\">┏━━━━━━━━━━━━━━━━━━━━━┳━━━━━━━━━━━━━━━━━━━┳━━━━━━━━━━━━┳━━━━━━━━━━━━━━━━━━━┓\n",
       "┃<span style=\"font-weight: bold\"> Layer (type)        </span>┃<span style=\"font-weight: bold\"> Output Shape      </span>┃<span style=\"font-weight: bold\">    Param # </span>┃<span style=\"font-weight: bold\"> Connected to      </span>┃\n",
       "┡━━━━━━━━━━━━━━━━━━━━━╇━━━━━━━━━━━━━━━━━━━╇━━━━━━━━━━━━╇━━━━━━━━━━━━━━━━━━━┩\n",
       "│ IQ_Input            │ (<span style=\"color: #00d7ff; text-decoration-color: #00d7ff\">None</span>, <span style=\"color: #00af00; text-decoration-color: #00af00\">2</span>, <span style=\"color: #00af00; text-decoration-color: #00af00\">128</span>)    │          <span style=\"color: #00af00; text-decoration-color: #00af00\">0</span> │ -                 │\n",
       "│ (<span style=\"color: #0087ff; text-decoration-color: #0087ff\">InputLayer</span>)        │                   │            │                   │\n",
       "├─────────────────────┼───────────────────┼────────────┼───────────────────┤\n",
       "│ permute_5 (<span style=\"color: #0087ff; text-decoration-color: #0087ff\">Permute</span>) │ (<span style=\"color: #00d7ff; text-decoration-color: #00d7ff\">None</span>, <span style=\"color: #00af00; text-decoration-color: #00af00\">128</span>, <span style=\"color: #00af00; text-decoration-color: #00af00\">2</span>)    │          <span style=\"color: #00af00; text-decoration-color: #00af00\">0</span> │ IQ_Input[<span style=\"color: #00af00; text-decoration-color: #00af00\">0</span>][<span style=\"color: #00af00; text-decoration-color: #00af00\">0</span>]    │\n",
       "├─────────────────────┼───────────────────┼────────────┼───────────────────┤\n",
       "│ conv1d_10 (<span style=\"color: #0087ff; text-decoration-color: #0087ff\">Conv1D</span>)  │ (<span style=\"color: #00d7ff; text-decoration-color: #00d7ff\">None</span>, <span style=\"color: #00af00; text-decoration-color: #00af00\">128</span>, <span style=\"color: #00af00; text-decoration-color: #00af00\">32</span>)   │        <span style=\"color: #00af00; text-decoration-color: #00af00\">224</span> │ permute_5[<span style=\"color: #00af00; text-decoration-color: #00af00\">0</span>][<span style=\"color: #00af00; text-decoration-color: #00af00\">0</span>]   │\n",
       "├─────────────────────┼───────────────────┼────────────┼───────────────────┤\n",
       "│ conv1d_11 (<span style=\"color: #0087ff; text-decoration-color: #0087ff\">Conv1D</span>)  │ (<span style=\"color: #00d7ff; text-decoration-color: #00d7ff\">None</span>, <span style=\"color: #00af00; text-decoration-color: #00af00\">128</span>, <span style=\"color: #00af00; text-decoration-color: #00af00\">64</span>)   │      <span style=\"color: #00af00; text-decoration-color: #00af00\">6,208</span> │ conv1d_10[<span style=\"color: #00af00; text-decoration-color: #00af00\">0</span>][<span style=\"color: #00af00; text-decoration-color: #00af00\">0</span>]   │\n",
       "├─────────────────────┼───────────────────┼────────────┼───────────────────┤\n",
       "│ flatten_6 (<span style=\"color: #0087ff; text-decoration-color: #0087ff\">Flatten</span>) │ (<span style=\"color: #00d7ff; text-decoration-color: #00d7ff\">None</span>, <span style=\"color: #00af00; text-decoration-color: #00af00\">8192</span>)      │          <span style=\"color: #00af00; text-decoration-color: #00af00\">0</span> │ conv1d_11[<span style=\"color: #00af00; text-decoration-color: #00af00\">0</span>][<span style=\"color: #00af00; text-decoration-color: #00af00\">0</span>]   │\n",
       "├─────────────────────┼───────────────────┼────────────┼───────────────────┤\n",
       "│ dense_27 (<span style=\"color: #0087ff; text-decoration-color: #0087ff\">Dense</span>)    │ (<span style=\"color: #00d7ff; text-decoration-color: #00d7ff\">None</span>, <span style=\"color: #00af00; text-decoration-color: #00af00\">64</span>)        │    <span style=\"color: #00af00; text-decoration-color: #00af00\">524,352</span> │ flatten_6[<span style=\"color: #00af00; text-decoration-color: #00af00\">0</span>][<span style=\"color: #00af00; text-decoration-color: #00af00\">0</span>]   │\n",
       "├─────────────────────┼───────────────────┼────────────┼───────────────────┤\n",
       "│ SNR_Input           │ (<span style=\"color: #00d7ff; text-decoration-color: #00d7ff\">None</span>, <span style=\"color: #00af00; text-decoration-color: #00af00\">1</span>)         │          <span style=\"color: #00af00; text-decoration-color: #00af00\">0</span> │ -                 │\n",
       "│ (<span style=\"color: #0087ff; text-decoration-color: #0087ff\">InputLayer</span>)        │                   │            │                   │\n",
       "├─────────────────────┼───────────────────┼────────────┼───────────────────┤\n",
       "│ dropout_14          │ (<span style=\"color: #00d7ff; text-decoration-color: #00d7ff\">None</span>, <span style=\"color: #00af00; text-decoration-color: #00af00\">64</span>)        │          <span style=\"color: #00af00; text-decoration-color: #00af00\">0</span> │ dense_27[<span style=\"color: #00af00; text-decoration-color: #00af00\">0</span>][<span style=\"color: #00af00; text-decoration-color: #00af00\">0</span>]    │\n",
       "│ (<span style=\"color: #0087ff; text-decoration-color: #0087ff\">Dropout</span>)           │                   │            │                   │\n",
       "├─────────────────────┼───────────────────┼────────────┼───────────────────┤\n",
       "│ dense_28 (<span style=\"color: #0087ff; text-decoration-color: #0087ff\">Dense</span>)    │ (<span style=\"color: #00d7ff; text-decoration-color: #00d7ff\">None</span>, <span style=\"color: #00af00; text-decoration-color: #00af00\">16</span>)        │         <span style=\"color: #00af00; text-decoration-color: #00af00\">32</span> │ SNR_Input[<span style=\"color: #00af00; text-decoration-color: #00af00\">0</span>][<span style=\"color: #00af00; text-decoration-color: #00af00\">0</span>]   │\n",
       "├─────────────────────┼───────────────────┼────────────┼───────────────────┤\n",
       "│ concatenate_6       │ (<span style=\"color: #00d7ff; text-decoration-color: #00d7ff\">None</span>, <span style=\"color: #00af00; text-decoration-color: #00af00\">80</span>)        │          <span style=\"color: #00af00; text-decoration-color: #00af00\">0</span> │ dropout_14[<span style=\"color: #00af00; text-decoration-color: #00af00\">0</span>][<span style=\"color: #00af00; text-decoration-color: #00af00\">0</span>], │\n",
       "│ (<span style=\"color: #0087ff; text-decoration-color: #0087ff\">Concatenate</span>)       │                   │            │ dense_28[<span style=\"color: #00af00; text-decoration-color: #00af00\">0</span>][<span style=\"color: #00af00; text-decoration-color: #00af00\">0</span>]    │\n",
       "├─────────────────────┼───────────────────┼────────────┼───────────────────┤\n",
       "│ dense_29 (<span style=\"color: #0087ff; text-decoration-color: #0087ff\">Dense</span>)    │ (<span style=\"color: #00d7ff; text-decoration-color: #00d7ff\">None</span>, <span style=\"color: #00af00; text-decoration-color: #00af00\">64</span>)        │      <span style=\"color: #00af00; text-decoration-color: #00af00\">5,184</span> │ concatenate_6[<span style=\"color: #00af00; text-decoration-color: #00af00\">0</span>]… │\n",
       "├─────────────────────┼───────────────────┼────────────┼───────────────────┤\n",
       "│ dropout_15          │ (<span style=\"color: #00d7ff; text-decoration-color: #00d7ff\">None</span>, <span style=\"color: #00af00; text-decoration-color: #00af00\">64</span>)        │          <span style=\"color: #00af00; text-decoration-color: #00af00\">0</span> │ dense_29[<span style=\"color: #00af00; text-decoration-color: #00af00\">0</span>][<span style=\"color: #00af00; text-decoration-color: #00af00\">0</span>]    │\n",
       "│ (<span style=\"color: #0087ff; text-decoration-color: #0087ff\">Dropout</span>)           │                   │            │                   │\n",
       "├─────────────────────┼───────────────────┼────────────┼───────────────────┤\n",
       "│ dense_30 (<span style=\"color: #0087ff; text-decoration-color: #0087ff\">Dense</span>)    │ (<span style=\"color: #00d7ff; text-decoration-color: #00d7ff\">None</span>, <span style=\"color: #00af00; text-decoration-color: #00af00\">11</span>)        │        <span style=\"color: #00af00; text-decoration-color: #00af00\">715</span> │ dropout_15[<span style=\"color: #00af00; text-decoration-color: #00af00\">0</span>][<span style=\"color: #00af00; text-decoration-color: #00af00\">0</span>]  │\n",
       "└─────────────────────┴───────────────────┴────────────┴───────────────────┘\n",
       "</pre>\n"
      ],
      "text/plain": [
       "┏━━━━━━━━━━━━━━━━━━━━━┳━━━━━━━━━━━━━━━━━━━┳━━━━━━━━━━━━┳━━━━━━━━━━━━━━━━━━━┓\n",
       "┃\u001b[1m \u001b[0m\u001b[1mLayer (type)       \u001b[0m\u001b[1m \u001b[0m┃\u001b[1m \u001b[0m\u001b[1mOutput Shape     \u001b[0m\u001b[1m \u001b[0m┃\u001b[1m \u001b[0m\u001b[1m   Param #\u001b[0m\u001b[1m \u001b[0m┃\u001b[1m \u001b[0m\u001b[1mConnected to     \u001b[0m\u001b[1m \u001b[0m┃\n",
       "┡━━━━━━━━━━━━━━━━━━━━━╇━━━━━━━━━━━━━━━━━━━╇━━━━━━━━━━━━╇━━━━━━━━━━━━━━━━━━━┩\n",
       "│ IQ_Input            │ (\u001b[38;5;45mNone\u001b[0m, \u001b[38;5;34m2\u001b[0m, \u001b[38;5;34m128\u001b[0m)    │          \u001b[38;5;34m0\u001b[0m │ -                 │\n",
       "│ (\u001b[38;5;33mInputLayer\u001b[0m)        │                   │            │                   │\n",
       "├─────────────────────┼───────────────────┼────────────┼───────────────────┤\n",
       "│ permute_5 (\u001b[38;5;33mPermute\u001b[0m) │ (\u001b[38;5;45mNone\u001b[0m, \u001b[38;5;34m128\u001b[0m, \u001b[38;5;34m2\u001b[0m)    │          \u001b[38;5;34m0\u001b[0m │ IQ_Input[\u001b[38;5;34m0\u001b[0m][\u001b[38;5;34m0\u001b[0m]    │\n",
       "├─────────────────────┼───────────────────┼────────────┼───────────────────┤\n",
       "│ conv1d_10 (\u001b[38;5;33mConv1D\u001b[0m)  │ (\u001b[38;5;45mNone\u001b[0m, \u001b[38;5;34m128\u001b[0m, \u001b[38;5;34m32\u001b[0m)   │        \u001b[38;5;34m224\u001b[0m │ permute_5[\u001b[38;5;34m0\u001b[0m][\u001b[38;5;34m0\u001b[0m]   │\n",
       "├─────────────────────┼───────────────────┼────────────┼───────────────────┤\n",
       "│ conv1d_11 (\u001b[38;5;33mConv1D\u001b[0m)  │ (\u001b[38;5;45mNone\u001b[0m, \u001b[38;5;34m128\u001b[0m, \u001b[38;5;34m64\u001b[0m)   │      \u001b[38;5;34m6,208\u001b[0m │ conv1d_10[\u001b[38;5;34m0\u001b[0m][\u001b[38;5;34m0\u001b[0m]   │\n",
       "├─────────────────────┼───────────────────┼────────────┼───────────────────┤\n",
       "│ flatten_6 (\u001b[38;5;33mFlatten\u001b[0m) │ (\u001b[38;5;45mNone\u001b[0m, \u001b[38;5;34m8192\u001b[0m)      │          \u001b[38;5;34m0\u001b[0m │ conv1d_11[\u001b[38;5;34m0\u001b[0m][\u001b[38;5;34m0\u001b[0m]   │\n",
       "├─────────────────────┼───────────────────┼────────────┼───────────────────┤\n",
       "│ dense_27 (\u001b[38;5;33mDense\u001b[0m)    │ (\u001b[38;5;45mNone\u001b[0m, \u001b[38;5;34m64\u001b[0m)        │    \u001b[38;5;34m524,352\u001b[0m │ flatten_6[\u001b[38;5;34m0\u001b[0m][\u001b[38;5;34m0\u001b[0m]   │\n",
       "├─────────────────────┼───────────────────┼────────────┼───────────────────┤\n",
       "│ SNR_Input           │ (\u001b[38;5;45mNone\u001b[0m, \u001b[38;5;34m1\u001b[0m)         │          \u001b[38;5;34m0\u001b[0m │ -                 │\n",
       "│ (\u001b[38;5;33mInputLayer\u001b[0m)        │                   │            │                   │\n",
       "├─────────────────────┼───────────────────┼────────────┼───────────────────┤\n",
       "│ dropout_14          │ (\u001b[38;5;45mNone\u001b[0m, \u001b[38;5;34m64\u001b[0m)        │          \u001b[38;5;34m0\u001b[0m │ dense_27[\u001b[38;5;34m0\u001b[0m][\u001b[38;5;34m0\u001b[0m]    │\n",
       "│ (\u001b[38;5;33mDropout\u001b[0m)           │                   │            │                   │\n",
       "├─────────────────────┼───────────────────┼────────────┼───────────────────┤\n",
       "│ dense_28 (\u001b[38;5;33mDense\u001b[0m)    │ (\u001b[38;5;45mNone\u001b[0m, \u001b[38;5;34m16\u001b[0m)        │         \u001b[38;5;34m32\u001b[0m │ SNR_Input[\u001b[38;5;34m0\u001b[0m][\u001b[38;5;34m0\u001b[0m]   │\n",
       "├─────────────────────┼───────────────────┼────────────┼───────────────────┤\n",
       "│ concatenate_6       │ (\u001b[38;5;45mNone\u001b[0m, \u001b[38;5;34m80\u001b[0m)        │          \u001b[38;5;34m0\u001b[0m │ dropout_14[\u001b[38;5;34m0\u001b[0m][\u001b[38;5;34m0\u001b[0m], │\n",
       "│ (\u001b[38;5;33mConcatenate\u001b[0m)       │                   │            │ dense_28[\u001b[38;5;34m0\u001b[0m][\u001b[38;5;34m0\u001b[0m]    │\n",
       "├─────────────────────┼───────────────────┼────────────┼───────────────────┤\n",
       "│ dense_29 (\u001b[38;5;33mDense\u001b[0m)    │ (\u001b[38;5;45mNone\u001b[0m, \u001b[38;5;34m64\u001b[0m)        │      \u001b[38;5;34m5,184\u001b[0m │ concatenate_6[\u001b[38;5;34m0\u001b[0m]… │\n",
       "├─────────────────────┼───────────────────┼────────────┼───────────────────┤\n",
       "│ dropout_15          │ (\u001b[38;5;45mNone\u001b[0m, \u001b[38;5;34m64\u001b[0m)        │          \u001b[38;5;34m0\u001b[0m │ dense_29[\u001b[38;5;34m0\u001b[0m][\u001b[38;5;34m0\u001b[0m]    │\n",
       "│ (\u001b[38;5;33mDropout\u001b[0m)           │                   │            │                   │\n",
       "├─────────────────────┼───────────────────┼────────────┼───────────────────┤\n",
       "│ dense_30 (\u001b[38;5;33mDense\u001b[0m)    │ (\u001b[38;5;45mNone\u001b[0m, \u001b[38;5;34m11\u001b[0m)        │        \u001b[38;5;34m715\u001b[0m │ dropout_15[\u001b[38;5;34m0\u001b[0m][\u001b[38;5;34m0\u001b[0m]  │\n",
       "└─────────────────────┴───────────────────┴────────────┴───────────────────┘\n"
      ]
     },
     "metadata": {},
     "output_type": "display_data"
    },
    {
     "data": {
      "text/html": [
       "<pre style=\"white-space:pre;overflow-x:auto;line-height:normal;font-family:Menlo,'DejaVu Sans Mono',consolas,'Courier New',monospace\"><span style=\"font-weight: bold\"> Total params: </span><span style=\"color: #00af00; text-decoration-color: #00af00\">536,715</span> (2.05 MB)\n",
       "</pre>\n"
      ],
      "text/plain": [
       "\u001b[1m Total params: \u001b[0m\u001b[38;5;34m536,715\u001b[0m (2.05 MB)\n"
      ]
     },
     "metadata": {},
     "output_type": "display_data"
    },
    {
     "data": {
      "text/html": [
       "<pre style=\"white-space:pre;overflow-x:auto;line-height:normal;font-family:Menlo,'DejaVu Sans Mono',consolas,'Courier New',monospace\"><span style=\"font-weight: bold\"> Trainable params: </span><span style=\"color: #00af00; text-decoration-color: #00af00\">536,715</span> (2.05 MB)\n",
       "</pre>\n"
      ],
      "text/plain": [
       "\u001b[1m Trainable params: \u001b[0m\u001b[38;5;34m536,715\u001b[0m (2.05 MB)\n"
      ]
     },
     "metadata": {},
     "output_type": "display_data"
    },
    {
     "data": {
      "text/html": [
       "<pre style=\"white-space:pre;overflow-x:auto;line-height:normal;font-family:Menlo,'DejaVu Sans Mono',consolas,'Courier New',monospace\"><span style=\"font-weight: bold\"> Non-trainable params: </span><span style=\"color: #00af00; text-decoration-color: #00af00\">0</span> (0.00 B)\n",
       "</pre>\n"
      ],
      "text/plain": [
       "\u001b[1m Non-trainable params: \u001b[0m\u001b[38;5;34m0\u001b[0m (0.00 B)\n"
      ]
     },
     "metadata": {},
     "output_type": "display_data"
    }
   ],
   "source": [
    "from tensorflow.keras import layers, models, Input\n",
    "\n",
    "num_classes = len(Selected_mods)\n",
    "\n",
    "iq_input = Input(shape=(2,128), name='IQ_Input')\n",
    "x = layers.Permute((2,1))(iq_input)  # shape -> (128,2)\n",
    "x = layers.Conv1D(32, 3, activation='relu', padding='same')(x)\n",
    "x = layers.Conv1D(64, 3, activation='relu', padding='same')(x)\n",
    "x = layers.Flatten()(x)\n",
    "x = layers.Dense(64, activation='relu')(x)\n",
    "x = layers.Dropout(0.2)(x)\n",
    "\n",
    "snr_input = Input(shape=(1,), name='SNR_Input')\n",
    "y = layers.Dense(16, activation='relu')(snr_input)\n",
    "\n",
    "combined = layers.concatenate([x, y])\n",
    "z = layers.Dense(64, activation='relu')(combined)\n",
    "z = layers.Dropout(0.2)(z)\n",
    "output = layers.Dense(num_classes, activation='softmax')(z)\n",
    "\n",
    "model = models.Model(inputs=[iq_input, snr_input], outputs=output)\n",
    "model.compile(optimizer='adam',\n",
    "              loss='sparse_categorical_crossentropy',\n",
    "              metrics=['accuracy'])\n",
    "model.summary()\n"
   ]
  },
  {
   "cell_type": "markdown",
   "id": "336fa517-793f-4251-b739-849b87516d27",
   "metadata": {},
   "source": [
    "              IQ Input (2,128)\n",
    "                  |\n",
    "            Permute -> (128,2)\n",
    "                  |\n",
    "            Conv1D(64, kernel=3) -> (126,64)\n",
    "                  |\n",
    "            Conv1D(128, kernel=3) -> (124,128)\n",
    "                  |\n",
    "                Flatten -> (124*128=15872)\n",
    "                  |\n",
    "           Dense(128, activation='relu')\n",
    "                  |\n",
    "                  |                    SNR Input (1,)\n",
    "                  |                          |\n",
    "                  |                     Dense(32, activation='relu')\n",
    "                  |                          |\n",
    "                  +----------Concatenate-----------+\n",
    "                              |\n",
    "                        Dense(128, activation='relu')\n",
    "                              |\n",
    "                     Dense(num_classes=11, activation='softmax')\n",
    "                              |\n",
    "                         Output (11,)\n"
   ]
  },
  {
   "cell_type": "code",
   "execution_count": 30,
   "id": "6c8f1697-6b38-46fb-b7bb-fdc521fadabd",
   "metadata": {},
   "outputs": [
    {
     "name": "stdout",
     "output_type": "stream",
     "text": [
      "Epoch 1/30\n",
      "\u001b[1m387/387\u001b[0m \u001b[32m━━━━━━━━━━━━━━━━━━━━\u001b[0m\u001b[37m\u001b[0m \u001b[1m10s\u001b[0m 22ms/step - accuracy: 0.2724 - loss: 1.8336 - val_accuracy: 0.4863 - val_loss: 1.1174\n",
      "Epoch 2/30\n",
      "\u001b[1m387/387\u001b[0m \u001b[32m━━━━━━━━━━━━━━━━━━━━\u001b[0m\u001b[37m\u001b[0m \u001b[1m4s\u001b[0m 11ms/step - accuracy: 0.4917 - loss: 1.1115 - val_accuracy: 0.5491 - val_loss: 0.9472\n",
      "Epoch 3/30\n",
      "\u001b[1m387/387\u001b[0m \u001b[32m━━━━━━━━━━━━━━━━━━━━\u001b[0m\u001b[37m\u001b[0m \u001b[1m6s\u001b[0m 15ms/step - accuracy: 0.5354 - loss: 0.9862 - val_accuracy: 0.5663 - val_loss: 0.9090\n",
      "Epoch 4/30\n",
      "\u001b[1m387/387\u001b[0m \u001b[32m━━━━━━━━━━━━━━━━━━━━\u001b[0m\u001b[37m\u001b[0m \u001b[1m6s\u001b[0m 14ms/step - accuracy: 0.5706 - loss: 0.9192 - val_accuracy: 0.6377 - val_loss: 0.8098\n",
      "Epoch 5/30\n",
      "\u001b[1m387/387\u001b[0m \u001b[32m━━━━━━━━━━━━━━━━━━━━\u001b[0m\u001b[37m\u001b[0m \u001b[1m7s\u001b[0m 17ms/step - accuracy: 0.6448 - loss: 0.8021 - val_accuracy: 0.6827 - val_loss: 0.6998\n",
      "Epoch 6/30\n",
      "\u001b[1m387/387\u001b[0m \u001b[32m━━━━━━━━━━━━━━━━━━━━\u001b[0m\u001b[37m\u001b[0m \u001b[1m6s\u001b[0m 15ms/step - accuracy: 0.6801 - loss: 0.7352 - val_accuracy: 0.6925 - val_loss: 0.6658\n",
      "Epoch 7/30\n",
      "\u001b[1m387/387\u001b[0m \u001b[32m━━━━━━━━━━━━━━━━━━━━\u001b[0m\u001b[37m\u001b[0m \u001b[1m9s\u001b[0m 12ms/step - accuracy: 0.6995 - loss: 0.6739 - val_accuracy: 0.7029 - val_loss: 0.6389\n",
      "Epoch 8/30\n",
      "\u001b[1m387/387\u001b[0m \u001b[32m━━━━━━━━━━━━━━━━━━━━\u001b[0m\u001b[37m\u001b[0m \u001b[1m5s\u001b[0m 12ms/step - accuracy: 0.7161 - loss: 0.6302 - val_accuracy: 0.7051 - val_loss: 0.6232\n",
      "Epoch 9/30\n",
      "\u001b[1m387/387\u001b[0m \u001b[32m━━━━━━━━━━━━━━━━━━━━\u001b[0m\u001b[37m\u001b[0m \u001b[1m5s\u001b[0m 13ms/step - accuracy: 0.7254 - loss: 0.6092 - val_accuracy: 0.7098 - val_loss: 0.6277\n",
      "Epoch 10/30\n",
      "\u001b[1m387/387\u001b[0m \u001b[32m━━━━━━━━━━━━━━━━━━━━\u001b[0m\u001b[37m\u001b[0m \u001b[1m7s\u001b[0m 18ms/step - accuracy: 0.7346 - loss: 0.5888 - val_accuracy: 0.7115 - val_loss: 0.6203\n",
      "Epoch 11/30\n",
      "\u001b[1m387/387\u001b[0m \u001b[32m━━━━━━━━━━━━━━━━━━━━\u001b[0m\u001b[37m\u001b[0m \u001b[1m5s\u001b[0m 13ms/step - accuracy: 0.7487 - loss: 0.5644 - val_accuracy: 0.7115 - val_loss: 0.6115\n",
      "Epoch 12/30\n",
      "\u001b[1m387/387\u001b[0m \u001b[32m━━━━━━━━━━━━━━━━━━━━\u001b[0m\u001b[37m\u001b[0m \u001b[1m6s\u001b[0m 15ms/step - accuracy: 0.7553 - loss: 0.5415 - val_accuracy: 0.7042 - val_loss: 0.6370\n",
      "Epoch 13/30\n",
      "\u001b[1m387/387\u001b[0m \u001b[32m━━━━━━━━━━━━━━━━━━━━\u001b[0m\u001b[37m\u001b[0m \u001b[1m5s\u001b[0m 13ms/step - accuracy: 0.7633 - loss: 0.5272 - val_accuracy: 0.7092 - val_loss: 0.6226\n",
      "Epoch 14/30\n",
      "\u001b[1m387/387\u001b[0m \u001b[32m━━━━━━━━━━━━━━━━━━━━\u001b[0m\u001b[37m\u001b[0m \u001b[1m4s\u001b[0m 10ms/step - accuracy: 0.7753 - loss: 0.4984 - val_accuracy: 0.7081 - val_loss: 0.6457\n",
      "Epoch 15/30\n",
      "\u001b[1m387/387\u001b[0m \u001b[32m━━━━━━━━━━━━━━━━━━━━\u001b[0m\u001b[37m\u001b[0m \u001b[1m6s\u001b[0m 16ms/step - accuracy: 0.7804 - loss: 0.4845 - val_accuracy: 0.7033 - val_loss: 0.6873\n",
      "Epoch 16/30\n",
      "\u001b[1m387/387\u001b[0m \u001b[32m━━━━━━━━━━━━━━━━━━━━\u001b[0m\u001b[37m\u001b[0m \u001b[1m9s\u001b[0m 13ms/step - accuracy: 0.7868 - loss: 0.4746 - val_accuracy: 0.7001 - val_loss: 0.6534\n",
      "Epoch 17/30\n",
      "\u001b[1m387/387\u001b[0m \u001b[32m━━━━━━━━━━━━━━━━━━━━\u001b[0m\u001b[37m\u001b[0m \u001b[1m6s\u001b[0m 14ms/step - accuracy: 0.7905 - loss: 0.4596 - val_accuracy: 0.7062 - val_loss: 0.6774\n",
      "Epoch 18/30\n",
      "\u001b[1m387/387\u001b[0m \u001b[32m━━━━━━━━━━━━━━━━━━━━\u001b[0m\u001b[37m\u001b[0m \u001b[1m9s\u001b[0m 10ms/step - accuracy: 0.8017 - loss: 0.4363 - val_accuracy: 0.7046 - val_loss: 0.6956\n",
      "Epoch 19/30\n",
      "\u001b[1m387/387\u001b[0m \u001b[32m━━━━━━━━━━━━━━━━━━━━\u001b[0m\u001b[37m\u001b[0m \u001b[1m6s\u001b[0m 15ms/step - accuracy: 0.8057 - loss: 0.4297 - val_accuracy: 0.7096 - val_loss: 0.6988\n",
      "Epoch 20/30\n",
      "\u001b[1m387/387\u001b[0m \u001b[32m━━━━━━━━━━━━━━━━━━━━\u001b[0m\u001b[37m\u001b[0m \u001b[1m6s\u001b[0m 15ms/step - accuracy: 0.8148 - loss: 0.4072 - val_accuracy: 0.7041 - val_loss: 0.7280\n",
      "Epoch 21/30\n",
      "\u001b[1m387/387\u001b[0m \u001b[32m━━━━━━━━━━━━━━━━━━━━\u001b[0m\u001b[37m\u001b[0m \u001b[1m6s\u001b[0m 16ms/step - accuracy: 0.8166 - loss: 0.3989 - val_accuracy: 0.7075 - val_loss: 0.7681\n",
      "Epoch 22/30\n",
      "\u001b[1m387/387\u001b[0m \u001b[32m━━━━━━━━━━━━━━━━━━━━\u001b[0m\u001b[37m\u001b[0m \u001b[1m6s\u001b[0m 15ms/step - accuracy: 0.8174 - loss: 0.4014 - val_accuracy: 0.7104 - val_loss: 0.7748\n",
      "Epoch 23/30\n",
      "\u001b[1m387/387\u001b[0m \u001b[32m━━━━━━━━━━━━━━━━━━━━\u001b[0m\u001b[37m\u001b[0m \u001b[1m6s\u001b[0m 16ms/step - accuracy: 0.8265 - loss: 0.3722 - val_accuracy: 0.7076 - val_loss: 0.7572\n",
      "Epoch 24/30\n",
      "\u001b[1m387/387\u001b[0m \u001b[32m━━━━━━━━━━━━━━━━━━━━\u001b[0m\u001b[37m\u001b[0m \u001b[1m6s\u001b[0m 16ms/step - accuracy: 0.8324 - loss: 0.3682 - val_accuracy: 0.7051 - val_loss: 0.7687\n",
      "Epoch 25/30\n",
      "\u001b[1m387/387\u001b[0m \u001b[32m━━━━━━━━━━━━━━━━━━━━\u001b[0m\u001b[37m\u001b[0m \u001b[1m4s\u001b[0m 11ms/step - accuracy: 0.8314 - loss: 0.3702 - val_accuracy: 0.7038 - val_loss: 0.8332\n",
      "Epoch 26/30\n",
      "\u001b[1m387/387\u001b[0m \u001b[32m━━━━━━━━━━━━━━━━━━━━\u001b[0m\u001b[37m\u001b[0m \u001b[1m5s\u001b[0m 13ms/step - accuracy: 0.8309 - loss: 0.3598 - val_accuracy: 0.7072 - val_loss: 0.8318\n",
      "Epoch 27/30\n",
      "\u001b[1m387/387\u001b[0m \u001b[32m━━━━━━━━━━━━━━━━━━━━\u001b[0m\u001b[37m\u001b[0m \u001b[1m5s\u001b[0m 14ms/step - accuracy: 0.8409 - loss: 0.3480 - val_accuracy: 0.7070 - val_loss: 0.8503\n",
      "Epoch 28/30\n",
      "\u001b[1m387/387\u001b[0m \u001b[32m━━━━━━━━━━━━━━━━━━━━\u001b[0m\u001b[37m\u001b[0m \u001b[1m6s\u001b[0m 14ms/step - accuracy: 0.8440 - loss: 0.3376 - val_accuracy: 0.7125 - val_loss: 0.8072\n",
      "Epoch 29/30\n",
      "\u001b[1m387/387\u001b[0m \u001b[32m━━━━━━━━━━━━━━━━━━━━\u001b[0m\u001b[37m\u001b[0m \u001b[1m10s\u001b[0m 12ms/step - accuracy: 0.8431 - loss: 0.3421 - val_accuracy: 0.7075 - val_loss: 0.7707\n",
      "Epoch 30/30\n",
      "\u001b[1m387/387\u001b[0m \u001b[32m━━━━━━━━━━━━━━━━━━━━\u001b[0m\u001b[37m\u001b[0m \u001b[1m5s\u001b[0m 12ms/step - accuracy: 0.8431 - loss: 0.3393 - val_accuracy: 0.7088 - val_loss: 0.8228\n"
     ]
    }
   ],
   "source": [
    "history = model.fit(\n",
    "    [X_train, SNR_train], Y_train,\n",
    "    validation_data=([X_val, SNR_val], Y_val),\n",
    "    epochs=30,\n",
    "    batch_size=128,\n",
    "    shuffle=True\n",
    ")\n"
   ]
  },
  {
   "cell_type": "code",
   "execution_count": 37,
   "id": "0dfb22d2-5a6e-4092-9a2d-d5b5d6afdf58",
   "metadata": {},
   "outputs": [
    {
     "data": {
      "image/png": "[encoded data removed]",
      "text/plain": [
       "<Figure size 640x480 with 1 Axes>"
      ]
     },
     "metadata": {},
     "output_type": "display_data"
    }
   ],
   "source": [
    "\n",
    "\n",
    "import matplotlib.pyplot as plt\n",
    "\n",
    "# Accuracy plot\n",
    "plt.plot(history.history['accuracy'], label='Train Acc')\n",
    "plt.plot(history.history['val_accuracy'], label='Val Acc')\n",
    "plt.title(\"Accuracy over Epochs\")\n",
    "plt.legend()\n",
    "plt.grid()\n",
    "plt.show()\n",
    "\n",
    "\n"
   ]
  },
  {
   "cell_type": "markdown",
   "id": "4599fdf2-d5cd-4b86-9d65-5c2360443085",
   "metadata": {},
   "source": [
    "## Still overfitting problem is present in this model"
   ]
  },
  {
   "cell_type": "code",
   "execution_count": 34,
   "id": "c663e314-0d3c-4181-b09f-7f37e5f64b80",
   "metadata": {},
   "outputs": [
    {
     "name": "stdout",
     "output_type": "stream",
     "text": [
      "\u001b[1m129/129\u001b[0m \u001b[32m━━━━━━━━━━━━━━━━━━━━\u001b[0m\u001b[37m\u001b[0m \u001b[1m1s\u001b[0m 4ms/step - accuracy: 0.7609 - loss: 0.7391   \n",
      "Test Accuracy: 71.89%\n",
      "Test Loss: 0.8084\n"
     ]
    }
   ],
   "source": [
    "test_loss, test_acc = model.evaluate(\n",
    "    {'IQ_Input': X_test, 'SNR_Input': SNR_test},\n",
    "    Y_test,\n",
    "    batch_size=64\n",
    ")\n",
    "\n",
    "print(f\"Test Accuracy: {test_acc*100:.2f}%\")\n",
    "print(f\"Test Loss: {test_loss:.4f}\")\n"
   ]
  },
  {
   "cell_type": "code",
   "execution_count": null,
   "id": "fdc334d0-592f-44ff-8366-bcd0886b3c33",
   "metadata": {},
   "outputs": [],
   "source": []
  }
 ],
 "metadata": {
  "kernelspec": {
   "display_name": "Python (tf_env)",
   "language": "python",
   "name": "tf_env"
  },
  "language_info": {
   "codemirror_mode": {
    "name": "ipython",
    "version": 3
   },
   "file_extension": ".py",
   "mimetype": "text/x-python",
   "name": "python",
   "nbconvert_exporter": "python",
   "pygments_lexer": "ipython3",
   "version": "3.9.23"
  }
 },
 "nbformat": 4,
 "nbformat_minor": 5
}
